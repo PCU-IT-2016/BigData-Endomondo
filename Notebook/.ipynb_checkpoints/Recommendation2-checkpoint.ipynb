{
 "cells": [
  {
   "cell_type": "code",
   "execution_count": 38,
   "metadata": {},
   "outputs": [],
   "source": [
    "import numpy as np\n",
    "import pandas as pd\n",
    "import matplotlib.pyplot as plt\n",
    "from sklearn.cluster import KMeans\n",
    "from sklearn.neighbors import NearestNeighbors\n",
    "from sklearn.preprocessing import MinMaxScaler\n",
    "from sklearn.preprocessing import LabelEncoder"
   ]
  },
  {
   "cell_type": "code",
   "execution_count": 2,
   "metadata": {},
   "outputs": [
    {
     "data": {
      "text/html": [
       "<div>\n",
       "<style scoped>\n",
       "    .dataframe tbody tr th:only-of-type {\n",
       "        vertical-align: middle;\n",
       "    }\n",
       "\n",
       "    .dataframe tbody tr th {\n",
       "        vertical-align: top;\n",
       "    }\n",
       "\n",
       "    .dataframe thead th {\n",
       "        text-align: right;\n",
       "    }\n",
       "</style>\n",
       "<table border=\"1\" class=\"dataframe\">\n",
       "  <thead>\n",
       "    <tr style=\"text-align: right;\">\n",
       "      <th></th>\n",
       "      <th>altitude</th>\n",
       "      <th>distance</th>\n",
       "      <th>gender</th>\n",
       "      <th>heart_rate</th>\n",
       "      <th>id</th>\n",
       "      <th>latitude</th>\n",
       "      <th>longitude</th>\n",
       "      <th>speed</th>\n",
       "      <th>sport</th>\n",
       "      <th>userId</th>\n",
       "    </tr>\n",
       "  </thead>\n",
       "  <tbody>\n",
       "    <tr>\n",
       "      <th>0</th>\n",
       "      <td>-0.002000</td>\n",
       "      <td>2469.6900</td>\n",
       "      <td>male</td>\n",
       "      <td>165.336</td>\n",
       "      <td>205454648</td>\n",
       "      <td>29.094667</td>\n",
       "      <td>-81.353615</td>\n",
       "      <td>0.000000</td>\n",
       "      <td>run</td>\n",
       "      <td>478585</td>\n",
       "    </tr>\n",
       "    <tr>\n",
       "      <th>1</th>\n",
       "      <td>-0.003599</td>\n",
       "      <td>1946.8801</td>\n",
       "      <td>male</td>\n",
       "      <td>136.688</td>\n",
       "      <td>444762628</td>\n",
       "      <td>13.688887</td>\n",
       "      <td>100.756050</td>\n",
       "      <td>29.722687</td>\n",
       "      <td>bike</td>\n",
       "      <td>11555239</td>\n",
       "    </tr>\n",
       "    <tr>\n",
       "      <th>2</th>\n",
       "      <td>-0.004800</td>\n",
       "      <td>966.8748</td>\n",
       "      <td>male</td>\n",
       "      <td>162.262</td>\n",
       "      <td>471800528</td>\n",
       "      <td>55.596527</td>\n",
       "      <td>12.356528</td>\n",
       "      <td>11.776106</td>\n",
       "      <td>run</td>\n",
       "      <td>762872</td>\n",
       "    </tr>\n",
       "    <tr>\n",
       "      <th>3</th>\n",
       "      <td>-0.006400</td>\n",
       "      <td>1053.2084</td>\n",
       "      <td>male</td>\n",
       "      <td>155.538</td>\n",
       "      <td>571582823</td>\n",
       "      <td>57.019640</td>\n",
       "      <td>9.918752</td>\n",
       "      <td>14.061889</td>\n",
       "      <td>run</td>\n",
       "      <td>745030</td>\n",
       "    </tr>\n",
       "    <tr>\n",
       "      <th>4</th>\n",
       "      <td>-0.006800</td>\n",
       "      <td>1052.5713</td>\n",
       "      <td>male</td>\n",
       "      <td>135.894</td>\n",
       "      <td>499773014</td>\n",
       "      <td>56.376488</td>\n",
       "      <td>9.304066</td>\n",
       "      <td>31.494408</td>\n",
       "      <td>bike</td>\n",
       "      <td>65547</td>\n",
       "    </tr>\n",
       "  </tbody>\n",
       "</table>\n",
       "</div>"
      ],
      "text/plain": [
       "   altitude   distance gender  heart_rate         id   latitude   longitude  \\\n",
       "0 -0.002000  2469.6900   male     165.336  205454648  29.094667  -81.353615   \n",
       "1 -0.003599  1946.8801   male     136.688  444762628  13.688887  100.756050   \n",
       "2 -0.004800   966.8748   male     162.262  471800528  55.596527   12.356528   \n",
       "3 -0.006400  1053.2084   male     155.538  571582823  57.019640    9.918752   \n",
       "4 -0.006800  1052.5713   male     135.894  499773014  56.376488    9.304066   \n",
       "\n",
       "       speed sport    userId  \n",
       "0   0.000000   run    478585  \n",
       "1  29.722687  bike  11555239  \n",
       "2  11.776106   run    762872  \n",
       "3  14.061889   run    745030  \n",
       "4  31.494408  bike     65547  "
      ]
     },
     "execution_count": 2,
     "metadata": {},
     "output_type": "execute_result"
    }
   ],
   "source": [
    "df = pd.read_json('Dataset/endomondo.json', lines=True)\n",
    "df.head()"
   ]
  },
  {
   "cell_type": "code",
   "execution_count": 3,
   "metadata": {},
   "outputs": [
    {
     "data": {
      "text/plain": [
       "array(['male', 'female', 'unknown'], dtype=object)"
      ]
     },
     "execution_count": 3,
     "metadata": {},
     "output_type": "execute_result"
    }
   ],
   "source": [
    "df.gender.unique()"
   ]
  },
  {
   "cell_type": "code",
   "execution_count": 4,
   "metadata": {},
   "outputs": [
    {
     "data": {
      "text/plain": [
       "(0, 200000)"
      ]
     },
     "execution_count": 4,
     "metadata": {},
     "output_type": "execute_result"
    },
    {
     "data": {
      "image/png": "[encoded data removed]",
      "text/plain": [
       "<Figure size 432x288 with 1 Axes>"
      ]
     },
     "metadata": {
      "needs_background": "light"
     },
     "output_type": "display_data"
    }
   ],
   "source": [
    "plt.bar(df.gender.unique(), df.gender.value_counts())\n",
    "plt.ylim(0, 200000)"
   ]
  },
  {
   "cell_type": "code",
   "execution_count": 5,
   "metadata": {},
   "outputs": [
    {
     "data": {
      "text/plain": [
       "array(['male', 'female'], dtype=object)"
      ]
     },
     "execution_count": 5,
     "metadata": {},
     "output_type": "execute_result"
    }
   ],
   "source": [
    "df = df.loc[df.gender != 'unknown']\n",
    "df.gender.unique()"
   ]
  },
  {
   "cell_type": "markdown",
   "metadata": {},
   "source": [
    "## Remove unknown gender"
   ]
  },
  {
   "cell_type": "code",
   "execution_count": 6,
   "metadata": {},
   "outputs": [
    {
     "data": {
      "text/plain": [
       "(0, 200000)"
      ]
     },
     "execution_count": 6,
     "metadata": {},
     "output_type": "execute_result"
    },
    {
     "data": {
      "image/png": "[encoded data removed]",
      "text/plain": [
       "<Figure size 432x288 with 1 Axes>"
      ]
     },
     "metadata": {
      "needs_background": "light"
     },
     "output_type": "display_data"
    }
   ],
   "source": [
    "plt.bar(df.gender.unique(), df.gender.value_counts())\n",
    "plt.ylim(0, 200000)"
   ]
  },
  {
   "cell_type": "markdown",
   "metadata": {},
   "source": [
    "## Encode gender label"
   ]
  },
  {
   "cell_type": "code",
   "execution_count": 14,
   "metadata": {},
   "outputs": [],
   "source": [
    "df['gender'] = LabelEncoder().fit_transform(df['gender'])"
   ]
  },
  {
   "cell_type": "code",
   "execution_count": 15,
   "metadata": {},
   "outputs": [],
   "source": [
    "df.to_json('Dataset/clean.json', orient='records', lines=True)"
   ]
  },
  {
   "cell_type": "code",
   "execution_count": 17,
   "metadata": {},
   "outputs": [
    {
     "data": {
      "text/plain": [
       "array([1, 0], dtype=int64)"
      ]
     },
     "execution_count": 17,
     "metadata": {},
     "output_type": "execute_result"
    }
   ],
   "source": [
    "# 1 = male, 0 = female\n",
    "df.gender.unique()"
   ]
  },
  {
   "cell_type": "code",
   "execution_count": 7,
   "metadata": {},
   "outputs": [
    {
     "data": {
      "text/plain": [
       "43"
      ]
     },
     "execution_count": 7,
     "metadata": {},
     "output_type": "execute_result"
    }
   ],
   "source": [
    "len(df.sport.unique())"
   ]
  },
  {
   "cell_type": "code",
   "execution_count": 8,
   "metadata": {},
   "outputs": [
    {
     "data": {
      "text/html": [
       "<div>\n",
       "<style scoped>\n",
       "    .dataframe tbody tr th:only-of-type {\n",
       "        vertical-align: middle;\n",
       "    }\n",
       "\n",
       "    .dataframe tbody tr th {\n",
       "        vertical-align: top;\n",
       "    }\n",
       "\n",
       "    .dataframe thead th {\n",
       "        text-align: right;\n",
       "    }\n",
       "</style>\n",
       "<table border=\"1\" class=\"dataframe\">\n",
       "  <thead>\n",
       "    <tr style=\"text-align: right;\">\n",
       "      <th></th>\n",
       "      <th>index</th>\n",
       "      <th>sport</th>\n",
       "    </tr>\n",
       "  </thead>\n",
       "  <tbody>\n",
       "    <tr>\n",
       "      <th>0</th>\n",
       "      <td>bike</td>\n",
       "      <td>71307</td>\n",
       "    </tr>\n",
       "    <tr>\n",
       "      <th>1</th>\n",
       "      <td>run</td>\n",
       "      <td>70123</td>\n",
       "    </tr>\n",
       "    <tr>\n",
       "      <th>2</th>\n",
       "      <td>mountain bike</td>\n",
       "      <td>10639</td>\n",
       "    </tr>\n",
       "    <tr>\n",
       "      <th>3</th>\n",
       "      <td>bike (transport)</td>\n",
       "      <td>7756</td>\n",
       "    </tr>\n",
       "    <tr>\n",
       "      <th>4</th>\n",
       "      <td>indoor cycling</td>\n",
       "      <td>1714</td>\n",
       "    </tr>\n",
       "    <tr>\n",
       "      <th>5</th>\n",
       "      <td>walk</td>\n",
       "      <td>1289</td>\n",
       "    </tr>\n",
       "    <tr>\n",
       "      <th>6</th>\n",
       "      <td>orienteering</td>\n",
       "      <td>867</td>\n",
       "    </tr>\n",
       "    <tr>\n",
       "      <th>7</th>\n",
       "      <td>cross-country skiing</td>\n",
       "      <td>789</td>\n",
       "    </tr>\n",
       "    <tr>\n",
       "      <th>8</th>\n",
       "      <td>core stability training</td>\n",
       "      <td>443</td>\n",
       "    </tr>\n",
       "    <tr>\n",
       "      <th>9</th>\n",
       "      <td>fitness walking</td>\n",
       "      <td>291</td>\n",
       "    </tr>\n",
       "  </tbody>\n",
       "</table>\n",
       "</div>"
      ],
      "text/plain": [
       "                     index  sport\n",
       "0                     bike  71307\n",
       "1                      run  70123\n",
       "2            mountain bike  10639\n",
       "3         bike (transport)   7756\n",
       "4           indoor cycling   1714\n",
       "5                     walk   1289\n",
       "6             orienteering    867\n",
       "7     cross-country skiing    789\n",
       "8  core stability training    443\n",
       "9          fitness walking    291"
      ]
     },
     "execution_count": 8,
     "metadata": {},
     "output_type": "execute_result"
    }
   ],
   "source": [
    "sport_count = df.sport.value_counts().reset_index()\n",
    "sport_count.head(10)"
   ]
  },
  {
   "cell_type": "markdown",
   "metadata": {},
   "source": [
    "## Top 5 Popular Sport"
   ]
  },
  {
   "cell_type": "code",
   "execution_count": 9,
   "metadata": {},
   "outputs": [
    {
     "data": {
      "text/plain": [
       "<BarContainer object of 5 artists>"
      ]
     },
     "execution_count": 9,
     "metadata": {},
     "output_type": "execute_result"
    },
    {
     "data": {
      "image/png": "[encoded data removed]",
      "text/plain": [
       "<Figure size 432x288 with 1 Axes>"
      ]
     },
     "metadata": {
      "needs_background": "light"
     },
     "output_type": "display_data"
    }
   ],
   "source": [
    "plt.barh(sport_count['index'].head(), sport_count.sport.head())"
   ]
  },
  {
   "cell_type": "markdown",
   "metadata": {},
   "source": [
    "## Input 10921915, bike"
   ]
  },
  {
   "cell_type": "code",
   "execution_count": 10,
   "metadata": {},
   "outputs": [],
   "source": [
    "input_user_id = '10921915'\n",
    "input_sport = 'bike'"
   ]
  },
  {
   "cell_type": "markdown",
   "metadata": {},
   "source": [
    "## Recommendation 3: Final answer"
   ]
  },
  {
   "cell_type": "code",
   "execution_count": 153,
   "metadata": {},
   "outputs": [],
   "source": [
    "def recommend(user_id, sport, n_recommendations=5):\n",
    "    \"\"\"\n",
    "    Returns a predictions and cluster model and nearest neighbors model\n",
    "    \"\"\"\n",
    "    \n",
    "    # Used features\n",
    "    features = ['altitude', 'distance', 'gender', 'heart_rate', 'latitude', 'longitude', 'speed']\n",
    "    \n",
    "    # Normalize data\n",
    "    scaled_df = pd.DataFrame(\n",
    "        MinMaxScaler().fit_transform(df.loc[df.sport == sport, features]), \n",
    "        columns=features)\n",
    "    scaled_df['id'] = df.id.astype(str)\n",
    "    scaled_df['userId'] = df.userId.astype(str)\n",
    "    \n",
    "    # Prepare train set with longitude & latitude data\n",
    "    X = scaled_df.loc[:, ['longitude', 'latitude']]\n",
    "    \n",
    "    # Declare cluster model\n",
    "    cluster_model = KMeans(n_clusters=4, \n",
    "                           random_state=88)\n",
    "    \n",
    "    # Fit Cluster model\n",
    "    cluster_model.fit(X)\n",
    "    \n",
    "    # Get cluster's member\n",
    "    clusters_ = cluster_model.predict(X)\n",
    "    scaled_df['cluster'] = clusters_\n",
    "    \n",
    "    # Prepare user's data\n",
    "    user_df = scaled_df.loc[scaled_df.userId == user_id, ['longitude', 'latitude']].mean()\n",
    "    \n",
    "    # Get user's cluster\n",
    "    clusters_ = cluster_model.predict(user_df.values.reshape(1, -1))\n",
    "    \n",
    "    # Get user's cluster members\n",
    "    cluster_members_df = scaled_df.loc[scaled_df.cluster == clusters_[0]].reset_index(drop=True)\n",
    "    \n",
    "    # prepare data for nearest neighbors\n",
    "    X = cluster_members_df.loc[:, features]\n",
    "    user_df = scaled_df.loc[scaled_df.userId == user_id, features].mean()\n",
    "#     temp = scaled_df.loc[scaled_df.userId == user_id, 'id']\n",
    "    \n",
    "    # Declare Neighbors model\n",
    "    neighbors_model = NearestNeighbors(n_neighbors=n_recommendations).fit(X)\n",
    "    \n",
    "    # Get the nearest neighbors\n",
    "    distances, indices = neighbors_model.kneighbors(user_df.values.reshape(1, -1))\n",
    "    \n",
    "    predicted_df = cluster_members_df.loc[indices[0]]\n",
    "    \n",
    "    # Returns n_neighbors\n",
    "    return predicted_df, user_df, scaled_df"
   ]
  },
  {
   "cell_type": "code",
   "execution_count": 182,
   "metadata": {},
   "outputs": [
    {
     "name": "stderr",
     "output_type": "stream",
     "text": [
      "c:\\users\\owner\\appdata\\local\\programs\\python\\python36\\lib\\site-packages\\sklearn\\preprocessing\\data.py:323: DataConversionWarning: Data with input dtype int32, float64 were all converted to float64 by MinMaxScaler.\n",
      "  return self.partial_fit(X, y)\n"
     ]
    },
    {
     "data": {
      "text/html": [
       "<div>\n",
       "<style scoped>\n",
       "    .dataframe tbody tr th:only-of-type {\n",
       "        vertical-align: middle;\n",
       "    }\n",
       "\n",
       "    .dataframe tbody tr th {\n",
       "        vertical-align: top;\n",
       "    }\n",
       "\n",
       "    .dataframe thead th {\n",
       "        text-align: right;\n",
       "    }\n",
       "</style>\n",
       "<table border=\"1\" class=\"dataframe\">\n",
       "  <thead>\n",
       "    <tr style=\"text-align: right;\">\n",
       "      <th></th>\n",
       "      <th>altitude</th>\n",
       "      <th>distance</th>\n",
       "      <th>gender</th>\n",
       "      <th>heart_rate</th>\n",
       "      <th>latitude</th>\n",
       "      <th>longitude</th>\n",
       "      <th>speed</th>\n",
       "      <th>id</th>\n",
       "      <th>userId</th>\n",
       "      <th>cluster</th>\n",
       "    </tr>\n",
       "  </thead>\n",
       "  <tbody>\n",
       "    <tr>\n",
       "      <th>25797</th>\n",
       "      <td>0.548769</td>\n",
       "      <td>0.217294</td>\n",
       "      <td>1.0</td>\n",
       "      <td>0.523682</td>\n",
       "      <td>0.743138</td>\n",
       "      <td>0.448978</td>\n",
       "      <td>0.196680</td>\n",
       "      <td>326652339</td>\n",
       "      <td>5607830</td>\n",
       "      <td>0</td>\n",
       "    </tr>\n",
       "    <tr>\n",
       "      <th>1051</th>\n",
       "      <td>0.529609</td>\n",
       "      <td>0.173135</td>\n",
       "      <td>1.0</td>\n",
       "      <td>0.495958</td>\n",
       "      <td>0.734556</td>\n",
       "      <td>0.474233</td>\n",
       "      <td>0.145292</td>\n",
       "      <td>592241400</td>\n",
       "      <td>2358</td>\n",
       "      <td>0</td>\n",
       "    </tr>\n",
       "    <tr>\n",
       "      <th>6197</th>\n",
       "      <td>0.536431</td>\n",
       "      <td>0.216810</td>\n",
       "      <td>1.0</td>\n",
       "      <td>0.488803</td>\n",
       "      <td>0.744046</td>\n",
       "      <td>0.449600</td>\n",
       "      <td>0.181122</td>\n",
       "      <td>271266743</td>\n",
       "      <td>4774109</td>\n",
       "      <td>0</td>\n",
       "    </tr>\n",
       "    <tr>\n",
       "      <th>11996</th>\n",
       "      <td>0.539337</td>\n",
       "      <td>0.224967</td>\n",
       "      <td>1.0</td>\n",
       "      <td>0.578159</td>\n",
       "      <td>0.759629</td>\n",
       "      <td>0.449767</td>\n",
       "      <td>0.000000</td>\n",
       "      <td>604896976</td>\n",
       "      <td>6582710</td>\n",
       "      <td>0</td>\n",
       "    </tr>\n",
       "    <tr>\n",
       "      <th>11271</th>\n",
       "      <td>0.531333</td>\n",
       "      <td>0.228632</td>\n",
       "      <td>1.0</td>\n",
       "      <td>0.573665</td>\n",
       "      <td>0.763442</td>\n",
       "      <td>0.448740</td>\n",
       "      <td>0.000000</td>\n",
       "      <td>624478282</td>\n",
       "      <td>6582710</td>\n",
       "      <td>0</td>\n",
       "    </tr>\n",
       "  </tbody>\n",
       "</table>\n",
       "</div>"
      ],
      "text/plain": [
       "       altitude  distance  gender  heart_rate  latitude  longitude     speed  \\\n",
       "25797  0.548769  0.217294     1.0    0.523682  0.743138   0.448978  0.196680   \n",
       "1051   0.529609  0.173135     1.0    0.495958  0.734556   0.474233  0.145292   \n",
       "6197   0.536431  0.216810     1.0    0.488803  0.744046   0.449600  0.181122   \n",
       "11996  0.539337  0.224967     1.0    0.578159  0.759629   0.449767  0.000000   \n",
       "11271  0.531333  0.228632     1.0    0.573665  0.763442   0.448740  0.000000   \n",
       "\n",
       "              id   userId  cluster  \n",
       "25797  326652339  5607830        0  \n",
       "1051   592241400     2358        0  \n",
       "6197   271266743  4774109        0  \n",
       "11996  604896976  6582710        0  \n",
       "11271  624478282  6582710        0  "
      ]
     },
     "execution_count": 182,
     "metadata": {},
     "output_type": "execute_result"
    }
   ],
   "source": [
    "recommendation_df, user_df, scaled_df = recommend(input_user_id, input_sport)\n",
    "recommendation_df"
   ]
  },
  {
   "cell_type": "code",
   "execution_count": 128,
   "metadata": {},
   "outputs": [],
   "source": [
    "recommendation_df.to_json('recommendation/recommendation.json', orient='records', lines=True)"
   ]
  },
  {
   "cell_type": "code",
   "execution_count": 129,
   "metadata": {},
   "outputs": [
    {
     "data": {
      "text/plain": [
       "<matplotlib.collections.PathCollection at 0x23b0169d550>"
      ]
     },
     "execution_count": 129,
     "metadata": {},
     "output_type": "execute_result"
    },
    {
     "data": {
      "image/png": "[encoded data removed]",
      "text/plain": [
       "<Figure size 432x288 with 1 Axes>"
      ]
     },
     "metadata": {
      "needs_background": "light"
     },
     "output_type": "display_data"
    }
   ],
   "source": [
    "plt.scatter(scaled_df.longitude, scaled_df.latitude)\n",
    "plt.scatter(recommendation_df.longitude, recommendation_df.latitude, marker='X', s=50, c='black')\n",
    "plt.scatter(user_df.longitude, user_df.latitude, marker='X', s=50, c='red')"
   ]
  },
  {
   "cell_type": "code",
   "execution_count": 88,
   "metadata": {},
   "outputs": [
    {
     "data": {
      "text/html": [
       "<div>\n",
       "<style scoped>\n",
       "    .dataframe tbody tr th:only-of-type {\n",
       "        vertical-align: middle;\n",
       "    }\n",
       "\n",
       "    .dataframe tbody tr th {\n",
       "        vertical-align: top;\n",
       "    }\n",
       "\n",
       "    .dataframe thead th {\n",
       "        text-align: right;\n",
       "    }\n",
       "</style>\n",
       "<table border=\"1\" class=\"dataframe\">\n",
       "  <thead>\n",
       "    <tr style=\"text-align: right;\">\n",
       "      <th></th>\n",
       "      <th>altitude</th>\n",
       "      <th>gender</th>\n",
       "      <th>heart_rate</th>\n",
       "      <th>id</th>\n",
       "      <th>latitude</th>\n",
       "      <th>longitude</th>\n",
       "      <th>speed</th>\n",
       "      <th>sport</th>\n",
       "      <th>timestamp</th>\n",
       "      <th>url</th>\n",
       "      <th>userId</th>\n",
       "    </tr>\n",
       "  </thead>\n",
       "  <tbody>\n",
       "    <tr>\n",
       "      <th>0</th>\n",
       "      <td>[0.0, 0.0, -0.8, -1.2, -1.6, -1.8, -1.8, -3.2,...</td>\n",
       "      <td>male</td>\n",
       "      <td>[115, 125, 130, 135, 140, 141, 142, 139, 133, ...</td>\n",
       "      <td>271266743</td>\n",
       "      <td>[41.48242302238941, 41.48196411319077, 41.4813...</td>\n",
       "      <td>[-71.30235155113041, -71.30234291777015, -71.3...</td>\n",
       "      <td>NaN</td>\n",
       "      <td>bike</td>\n",
       "      <td>[1383250594, 1383250601, 1383250610, 138325062...</td>\n",
       "      <td>https://www.endomondo.com/users/4774109/workou...</td>\n",
       "      <td>4774109</td>\n",
       "    </tr>\n",
       "    <tr>\n",
       "      <th>1</th>\n",
       "      <td>[123.2, 121.8, 120.4, 118.8, 118.2, 116.6, 113...</td>\n",
       "      <td>male</td>\n",
       "      <td>[88, 88, 88, 83, 83, 83, 78, 77, 76, 76, 76, 7...</td>\n",
       "      <td>624478282</td>\n",
       "      <td>[47.24273158237338, 47.242663856595755, 47.242...</td>\n",
       "      <td>[18.62023076042533, 18.620279291644692, 18.620...</td>\n",
       "      <td>[31.4424, 32.2452, 31.2048, 34.1964, 35.2044, ...</td>\n",
       "      <td>bike</td>\n",
       "      <td>[1446030131, 1446030132, 1446030133, 144603013...</td>\n",
       "      <td>https://www.endomondo.com/users/6582710/workou...</td>\n",
       "      <td>6582710</td>\n",
       "    </tr>\n",
       "    <tr>\n",
       "      <th>2</th>\n",
       "      <td>[139.0, 138.6, 138.4, 138.2, 138.2, 138.0, 138...</td>\n",
       "      <td>male</td>\n",
       "      <td>[101, 103, 106, 109, 112, 115, 115, 118, 121, ...</td>\n",
       "      <td>604896976</td>\n",
       "      <td>[47.24209824576974, 47.24211442284286, 47.2421...</td>\n",
       "      <td>[18.61673324368894, 18.616816475987434, 18.616...</td>\n",
       "      <td>[6.516, 6.8184000000000005, 7.254, 7.624800000...</td>\n",
       "      <td>run</td>\n",
       "      <td>[1442763401, 1442763403, 1442763405, 144276340...</td>\n",
       "      <td>https://www.endomondo.com/users/6582710/workou...</td>\n",
       "      <td>6582710</td>\n",
       "    </tr>\n",
       "    <tr>\n",
       "      <th>3</th>\n",
       "      <td>[4.4, 4.2, 3.8, 4.0, 4.4, 3.6, 3.4, 3.0, 2.8, ...</td>\n",
       "      <td>male</td>\n",
       "      <td>[73, 83, 108, 116, 121, 124, 125, 126, 124, 12...</td>\n",
       "      <td>592241400</td>\n",
       "      <td>[55.64511233009398, 55.64516304060817, 55.6447...</td>\n",
       "      <td>[12.634386057034135, 12.635375875979662, 12.63...</td>\n",
       "      <td>NaN</td>\n",
       "      <td>run</td>\n",
       "      <td>[1440941059, 1440941075, 1440941090, 144094110...</td>\n",
       "      <td>https://www.endomondo.com/users/2358/workouts/...</td>\n",
       "      <td>2358</td>\n",
       "    </tr>\n",
       "    <tr>\n",
       "      <th>4</th>\n",
       "      <td>[87.2, 85.8, 84.0, 77.8, 76.8, 75.4, 74.4, 73....</td>\n",
       "      <td>male</td>\n",
       "      <td>[59, 62, 62, 74, 74, 82, 87, 98, 102, 107, 111...</td>\n",
       "      <td>326652339</td>\n",
       "      <td>[-22.9787399, -22.9787946, -22.9788202, -22.97...</td>\n",
       "      <td>[-43.2175458, -43.2174759, -43.217336, -43.217...</td>\n",
       "      <td>NaN</td>\n",
       "      <td>run</td>\n",
       "      <td>[1393088902, 1393088906, 1393088911, 139308892...</td>\n",
       "      <td>https://www.endomondo.com/users/5607830/workou...</td>\n",
       "      <td>5607830</td>\n",
       "    </tr>\n",
       "  </tbody>\n",
       "</table>\n",
       "</div>"
      ],
      "text/plain": [
       "                                            altitude gender  \\\n",
       "0  [0.0, 0.0, -0.8, -1.2, -1.6, -1.8, -1.8, -3.2,...   male   \n",
       "1  [123.2, 121.8, 120.4, 118.8, 118.2, 116.6, 113...   male   \n",
       "2  [139.0, 138.6, 138.4, 138.2, 138.2, 138.0, 138...   male   \n",
       "3  [4.4, 4.2, 3.8, 4.0, 4.4, 3.6, 3.4, 3.0, 2.8, ...   male   \n",
       "4  [87.2, 85.8, 84.0, 77.8, 76.8, 75.4, 74.4, 73....   male   \n",
       "\n",
       "                                          heart_rate         id  \\\n",
       "0  [115, 125, 130, 135, 140, 141, 142, 139, 133, ...  271266743   \n",
       "1  [88, 88, 88, 83, 83, 83, 78, 77, 76, 76, 76, 7...  624478282   \n",
       "2  [101, 103, 106, 109, 112, 115, 115, 118, 121, ...  604896976   \n",
       "3  [73, 83, 108, 116, 121, 124, 125, 126, 124, 12...  592241400   \n",
       "4  [59, 62, 62, 74, 74, 82, 87, 98, 102, 107, 111...  326652339   \n",
       "\n",
       "                                            latitude  \\\n",
       "0  [41.48242302238941, 41.48196411319077, 41.4813...   \n",
       "1  [47.24273158237338, 47.242663856595755, 47.242...   \n",
       "2  [47.24209824576974, 47.24211442284286, 47.2421...   \n",
       "3  [55.64511233009398, 55.64516304060817, 55.6447...   \n",
       "4  [-22.9787399, -22.9787946, -22.9788202, -22.97...   \n",
       "\n",
       "                                           longitude  \\\n",
       "0  [-71.30235155113041, -71.30234291777015, -71.3...   \n",
       "1  [18.62023076042533, 18.620279291644692, 18.620...   \n",
       "2  [18.61673324368894, 18.616816475987434, 18.616...   \n",
       "3  [12.634386057034135, 12.635375875979662, 12.63...   \n",
       "4  [-43.2175458, -43.2174759, -43.217336, -43.217...   \n",
       "\n",
       "                                               speed sport  \\\n",
       "0                                                NaN  bike   \n",
       "1  [31.4424, 32.2452, 31.2048, 34.1964, 35.2044, ...  bike   \n",
       "2  [6.516, 6.8184000000000005, 7.254, 7.624800000...   run   \n",
       "3                                                NaN   run   \n",
       "4                                                NaN   run   \n",
       "\n",
       "                                           timestamp  \\\n",
       "0  [1383250594, 1383250601, 1383250610, 138325062...   \n",
       "1  [1446030131, 1446030132, 1446030133, 144603013...   \n",
       "2  [1442763401, 1442763403, 1442763405, 144276340...   \n",
       "3  [1440941059, 1440941075, 1440941090, 144094110...   \n",
       "4  [1393088902, 1393088906, 1393088911, 139308892...   \n",
       "\n",
       "                                                 url   userId  \n",
       "0  https://www.endomondo.com/users/4774109/workou...  4774109  \n",
       "1  https://www.endomondo.com/users/6582710/workou...  6582710  \n",
       "2  https://www.endomondo.com/users/6582710/workou...  6582710  \n",
       "3  https://www.endomondo.com/users/2358/workouts/...     2358  \n",
       "4  https://www.endomondo.com/users/5607830/workou...  5607830  "
      ]
     },
     "execution_count": 88,
     "metadata": {},
     "output_type": "execute_result"
    }
   ],
   "source": [
    "route_df = pd.read_json('recommendation/part-r-00000', lines=True)\n",
    "route_df.head()"
   ]
  },
  {
   "cell_type": "code",
   "execution_count": 89,
   "metadata": {},
   "outputs": [
    {
     "data": {
      "text/html": [
       "<div>\n",
       "<style scoped>\n",
       "    .dataframe tbody tr th:only-of-type {\n",
       "        vertical-align: middle;\n",
       "    }\n",
       "\n",
       "    .dataframe tbody tr th {\n",
       "        vertical-align: top;\n",
       "    }\n",
       "\n",
       "    .dataframe thead th {\n",
       "        text-align: right;\n",
       "    }\n",
       "</style>\n",
       "<table border=\"1\" class=\"dataframe\">\n",
       "  <thead>\n",
       "    <tr style=\"text-align: right;\">\n",
       "      <th></th>\n",
       "      <th>longitude</th>\n",
       "      <th>latitude</th>\n",
       "    </tr>\n",
       "  </thead>\n",
       "  <tbody>\n",
       "    <tr>\n",
       "      <th>0</th>\n",
       "      <td>[-71.30235155113041, -71.30234291777015, -71.3...</td>\n",
       "      <td>[41.48242302238941, 41.48196411319077, 41.4813...</td>\n",
       "    </tr>\n",
       "    <tr>\n",
       "      <th>1</th>\n",
       "      <td>[18.62023076042533, 18.620279291644692, 18.620...</td>\n",
       "      <td>[47.24273158237338, 47.242663856595755, 47.242...</td>\n",
       "    </tr>\n",
       "    <tr>\n",
       "      <th>2</th>\n",
       "      <td>[18.61673324368894, 18.616816475987434, 18.616...</td>\n",
       "      <td>[47.24209824576974, 47.24211442284286, 47.2421...</td>\n",
       "    </tr>\n",
       "    <tr>\n",
       "      <th>3</th>\n",
       "      <td>[12.634386057034135, 12.635375875979662, 12.63...</td>\n",
       "      <td>[55.64511233009398, 55.64516304060817, 55.6447...</td>\n",
       "    </tr>\n",
       "    <tr>\n",
       "      <th>4</th>\n",
       "      <td>[-43.2175458, -43.2174759, -43.217336, -43.217...</td>\n",
       "      <td>[-22.9787399, -22.9787946, -22.9788202, -22.97...</td>\n",
       "    </tr>\n",
       "  </tbody>\n",
       "</table>\n",
       "</div>"
      ],
      "text/plain": [
       "                                           longitude  \\\n",
       "0  [-71.30235155113041, -71.30234291777015, -71.3...   \n",
       "1  [18.62023076042533, 18.620279291644692, 18.620...   \n",
       "2  [18.61673324368894, 18.616816475987434, 18.616...   \n",
       "3  [12.634386057034135, 12.635375875979662, 12.63...   \n",
       "4  [-43.2175458, -43.2174759, -43.217336, -43.217...   \n",
       "\n",
       "                                            latitude  \n",
       "0  [41.48242302238941, 41.48196411319077, 41.4813...  \n",
       "1  [47.24273158237338, 47.242663856595755, 47.242...  \n",
       "2  [47.24209824576974, 47.24211442284286, 47.2421...  \n",
       "3  [55.64511233009398, 55.64516304060817, 55.6447...  \n",
       "4  [-22.9787399, -22.9787946, -22.9788202, -22.97...  "
      ]
     },
     "execution_count": 89,
     "metadata": {},
     "output_type": "execute_result"
    }
   ],
   "source": [
    "route_df = route_df.loc[:, ['longitude', 'latitude']]\n",
    "route_df.head()"
   ]
  },
  {
   "cell_type": "code",
   "execution_count": 172,
   "metadata": {},
   "outputs": [
    {
     "data": {
      "text/plain": [
       "longitude    24.59439\n",
       "latitude     60.17533\n",
       "dtype: float64"
      ]
     },
     "execution_count": 172,
     "metadata": {},
     "output_type": "execute_result"
    }
   ],
   "source": [
    "user_lon_lat = df.loc[df.userId.astype(str) == input_user_id, ['longitude', 'latitude']].mean()\n",
    "user_lon_lat"
   ]
  },
  {
   "cell_type": "code",
   "execution_count": 185,
   "metadata": {},
   "outputs": [
    {
     "data": {
      "image/png": "[encoded data removed]",
      "text/plain": [
       "<Figure size 432x288 with 1 Axes>"
      ]
     },
     "metadata": {
      "needs_background": "light"
     },
     "output_type": "display_data"
    },
    {
     "data": {
      "image/png": "[encoded data removed]",
      "text/plain": [
       "<Figure size 432x288 with 1 Axes>"
      ]
     },
     "metadata": {
      "needs_background": "light"
     },
     "output_type": "display_data"
    },
    {
     "data": {
      "image/png": "[encoded data removed]",
      "text/plain": [
       "<Figure size 432x288 with 1 Axes>"
      ]
     },
     "metadata": {
      "needs_background": "light"
     },
     "output_type": "display_data"
    },
    {
     "data": {
      "image/png": "[encoded data removed]",
      "text/plain": [
       "<Figure size 432x288 with 1 Axes>"
      ]
     },
     "metadata": {
      "needs_background": "light"
     },
     "output_type": "display_data"
    },
    {
     "data": {
      "image/png": "[encoded data removed]",
      "text/plain": [
       "<Figure size 432x288 with 1 Axes>"
      ]
     },
     "metadata": {
      "needs_background": "light"
     },
     "output_type": "display_data"
    },
    {
     "data": {
      "image/png": "[encoded data removed]",
      "text/plain": [
       "<Figure size 432x288 with 1 Axes>"
      ]
     },
     "metadata": {
      "needs_background": "light"
     },
     "output_type": "display_data"
    }
   ],
   "source": [
    "for row in route_df.iterrows():\n",
    "    lons = list(row[1].longitude)\n",
    "    lats = list(row[1].latitude)\n",
    "    plt.plot(lons, lats, label='line ' + str(row[0]))\n",
    "    plt.show()\n",
    "    \n",
    "for row in route_df.iterrows():\n",
    "    lons = list(row[1].longitude)\n",
    "    lats = list(row[1].latitude)\n",
    "    plt.scatter(lons, lats)\n",
    "        \n",
    "plt.scatter(user_lon_lat.longitude, user_lon_lat.latitude, marker='X', s=50, c='red')\n",
    "plt.show()"
   ]
  },
  {
   "cell_type": "markdown",
   "metadata": {},
   "source": [
    "# Conclusion: Recommendation 1\n",
    "recommendation pertama menggunakan 8 features:\n",
    "\n",
    "- 'altitude'\n",
    "- 'distance'\n",
    "- 'gender'\n",
    "- 'heart_rate'\n",
    "- 'latitude' \n",
    "- 'longitude'\n",
    "- 'speed'\n",
    "\n",
    "Menggunakan model Nearest Neighbors dan di fit dengan record lain selain record user (input userId).\n",
    "\n",
    "Data user di average dan di cari data dengan jarak terdekat dari model Nearest Neighbors.\n",
    "\n",
    "Metode recommendation ini mempertimbangkan banyak fitur, tapi oleh karena itu terdapat kasus dimana latitude dan longitude menjadi bukan prioritas utama dalam perhitungan jarak (euclidean) rekomendasi, \n",
    "### Akibatnya \n",
    "Bisa ditemukan rekomendasi dimana jarak antar route yang biasa ditempuh user sangat jauh dengan route yang di rekomendasi. dikarenakan feature-feature lain memiliki jarak yang dekat ke data dan membuat data tersebut menjadi rekomendasi.\n",
    "\n",
    "# Conclusion: Recommendation 2\n",
    "recommendation kedua menggunakan hanya 2 fitur yaitu `latitude` dan `longitude`, \n",
    "\n",
    "menggunakan model KMeans untuk cluster data dan Nearest Neighbors.\n",
    "\n",
    "Data user di average dan di cari cluster mana data tersebut masuk.\n",
    "\n",
    "Setelah ketemu member-member dari cluster si user. akan ditrain model NearestNeighbors dengan menggunakan data dari cluster tersebut. dan dicari data terdekat dengan data si user hanya dalam 1 cluster tersebut.\n",
    "\n",
    "### Akibatnya\n",
    "model menjadi terlalu naive, karena hasil rekomendasi hanya berupa route terdekat dengan route-route yang sering ditempuh oleh `user`.\n",
    "\n",
    "# Conclusion: Recommendation 3\n",
    "Permasalahan kedua sistem rekomendasi sebelumnya dapat terselesaikan, dengan melakukan ***prioritas feature***.\n",
    "\n",
    "Prioritas Pertama `Sport`. data akan dipisah sesuai sport.\n",
    "\n",
    "Prioritas berikutnya adalah `jarak` dengan melakukan perhitungan terlebih dahulu pada feature `latitude` dan `longitude` dengan menggunakan model `KMeans`.\n",
    "\n",
    "Data akan terlebih dahulu di cluster. dan data user akan di average dan di cari, masuk ke cluster mana data user tersebut.\n",
    "\n",
    "Setelah ditemukan cluster dari si user. berikutnya akan digunakan feature-feature pada `rekomendasi 1`\n",
    "- 'altitude'\n",
    "- 'distance'\n",
    "- 'gender'\n",
    "- 'heart_rate'\n",
    "- 'latitude' \n",
    "- 'longitude'\n",
    "- 'speed'\n",
    "Features diatas akan ikut dipertimbangkan saat mencari rekomendasi. \n",
    "\n",
    "### Akibatnya \n",
    "hasil rekomendasi tidak akan jauh dari rute-rute yang biasa ditempuh oleh user DAN feature-feature seperti `distance` `heart_rate` dll tersebut juga ikut diperhitungkan."
   ]
  }
 ],
 "metadata": {
  "kernelspec": {
   "display_name": "Python 3",
   "language": "python",
   "name": "python3"
  },
  "language_info": {
   "codemirror_mode": {
    "name": "ipython",
    "version": 3
   },
   "file_extension": ".py",
   "mimetype": "text/x-python",
   "name": "python",
   "nbconvert_exporter": "python",
   "pygments_lexer": "ipython3",
   "version": "3.6.7"
  }
 },
 "nbformat": 4,
 "nbformat_minor": 2
}
