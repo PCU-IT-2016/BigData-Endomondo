{
 "cells": [
  {
   "cell_type": "code",
   "execution_count": 21,
   "metadata": {},
   "outputs": [],
   "source": [
    "import numpy as np\n",
    "import pandas as pd\n",
    "import matplotlib.pyplot as plt"
   ]
  },
  {
   "cell_type": "code",
   "execution_count": 48,
   "metadata": {},
   "outputs": [],
   "source": [
    "records = 10\n",
    "data = []"
   ]
  },
  {
   "cell_type": "code",
   "execution_count": 49,
   "metadata": {},
   "outputs": [],
   "source": [
    "with open('Dataset/endomondoHR_proper.json') as f:\n",
    "    for record_counter, l in enumerate(f):\n",
    "        data.append(eval(l))\n",
    "        if record_counter >= records:\n",
    "            break"
   ]
  },
  {
   "cell_type": "code",
   "execution_count": 50,
   "metadata": {},
   "outputs": [],
   "source": [
    "df = pd.DataFrame(data)"
   ]
  },
  {
   "cell_type": "code",
   "execution_count": 51,
   "metadata": {},
   "outputs": [
    {
     "data": {
      "text/html": [
       "<div>\n",
       "<style scoped>\n",
       "    .dataframe tbody tr th:only-of-type {\n",
       "        vertical-align: middle;\n",
       "    }\n",
       "\n",
       "    .dataframe tbody tr th {\n",
       "        vertical-align: top;\n",
       "    }\n",
       "\n",
       "    .dataframe thead th {\n",
       "        text-align: right;\n",
       "    }\n",
       "</style>\n",
       "<table border=\"1\" class=\"dataframe\">\n",
       "  <thead>\n",
       "    <tr style=\"text-align: right;\">\n",
       "      <th></th>\n",
       "      <th>altitude</th>\n",
       "      <th>gender</th>\n",
       "      <th>heart_rate</th>\n",
       "      <th>id</th>\n",
       "      <th>latitude</th>\n",
       "      <th>longitude</th>\n",
       "      <th>speed</th>\n",
       "      <th>sport</th>\n",
       "      <th>timestamp</th>\n",
       "      <th>url</th>\n",
       "      <th>userId</th>\n",
       "    </tr>\n",
       "  </thead>\n",
       "  <tbody>\n",
       "    <tr>\n",
       "      <th>0</th>\n",
       "      <td>[41.6, 40.6, 40.6, 38.4, 37.0, 34.0, 34.0, 34....</td>\n",
       "      <td>male</td>\n",
       "      <td>[100, 111, 120, 119, 120, 116, 125, 128, 131, ...</td>\n",
       "      <td>396826535</td>\n",
       "      <td>[60.173348765820265, 60.173239801079035, 60.17...</td>\n",
       "      <td>[24.64977040886879, 24.65014273300767, 24.6509...</td>\n",
       "      <td>[6.8652, 16.4736, 19.1988, 20.4804, 31.3956, 3...</td>\n",
       "      <td>bike</td>\n",
       "      <td>[1408898746, 1408898754, 1408898765, 140889877...</td>\n",
       "      <td>https://www.endomondo.com/users/10921915/worko...</td>\n",
       "      <td>10921915</td>\n",
       "    </tr>\n",
       "    <tr>\n",
       "      <th>1</th>\n",
       "      <td>[38.4, 39.0, 39.0, 38.2, 36.8, 36.8, 36.8, 35....</td>\n",
       "      <td>male</td>\n",
       "      <td>[100, 105, 111, 110, 108, 115, 126, 130, 132, ...</td>\n",
       "      <td>392337038</td>\n",
       "      <td>[60.173247596248984, 60.17320962622762, 60.172...</td>\n",
       "      <td>[24.649855233728886, 24.65015547350049, 24.650...</td>\n",
       "      <td>[9.0792, 13.284, 15.9336, 10.9476, 16.1676, 30...</td>\n",
       "      <td>bike</td>\n",
       "      <td>[1408221682, 1408221687, 1408221699, 140822170...</td>\n",
       "      <td>https://www.endomondo.com/users/10921915/worko...</td>\n",
       "      <td>10921915</td>\n",
       "    </tr>\n",
       "    <tr>\n",
       "      <th>2</th>\n",
       "      <td>[76.4, 73.2, 72.4, 73.0, 73.0, 70.8, 69.2, 69....</td>\n",
       "      <td>male</td>\n",
       "      <td>[99, 105, 113, 110, 109, 110, 108, 121, 116, 1...</td>\n",
       "      <td>389643739</td>\n",
       "      <td>[60.17326201312244, 60.173205351457, 60.172969...</td>\n",
       "      <td>[24.64995657093823, 24.650197718292475, 24.651...</td>\n",
       "      <td>[4.0464, 13.8204, 16.9776, 19.9404, 28.7856, 3...</td>\n",
       "      <td>bike</td>\n",
       "      <td>[1407858459, 1407858466, 1407858478, 140785849...</td>\n",
       "      <td>https://www.endomondo.com/users/10921915/worko...</td>\n",
       "      <td>10921915</td>\n",
       "    </tr>\n",
       "    <tr>\n",
       "      <th>3</th>\n",
       "      <td>[28.6, 29.4, 29.4, 29.4, 28.0, 27.0, 25.2, 23....</td>\n",
       "      <td>male</td>\n",
       "      <td>[99, 105, 113, 109, 112, 116, 116, 114, 114, 1...</td>\n",
       "      <td>386729739</td>\n",
       "      <td>[60.173286236822605, 60.17323946580291, 60.173...</td>\n",
       "      <td>[24.649874344468117, 24.650242729112506, 24.65...</td>\n",
       "      <td>[7.4988, 15.4008, 17.8668, 21.5712, 24.1416, 3...</td>\n",
       "      <td>bike</td>\n",
       "      <td>[1407432042, 1407432048, 1407432056, 140743206...</td>\n",
       "      <td>https://www.endomondo.com/users/10921915/worko...</td>\n",
       "      <td>10921915</td>\n",
       "    </tr>\n",
       "    <tr>\n",
       "      <th>4</th>\n",
       "      <td>[32.0, 32.0, 32.0, 35.8, 36.2, 36.2, 36.2, 36....</td>\n",
       "      <td>male</td>\n",
       "      <td>[110, 113, 114, 116, 123, 126, 129, 135, 137, ...</td>\n",
       "      <td>383186560</td>\n",
       "      <td>[60.17329327762127, 60.17327332869172, 60.1732...</td>\n",
       "      <td>[24.64979832060635, 24.64992195367813, 24.6500...</td>\n",
       "      <td>NaN</td>\n",
       "      <td>bike (transport)</td>\n",
       "      <td>[1406909434, 1406909436, 1406909437, 140690943...</td>\n",
       "      <td>https://www.endomondo.com/users/10921915/worko...</td>\n",
       "      <td>10921915</td>\n",
       "    </tr>\n",
       "  </tbody>\n",
       "</table>\n",
       "</div>"
      ],
      "text/plain": [
       "                                            altitude gender  \\\n",
       "0  [41.6, 40.6, 40.6, 38.4, 37.0, 34.0, 34.0, 34....   male   \n",
       "1  [38.4, 39.0, 39.0, 38.2, 36.8, 36.8, 36.8, 35....   male   \n",
       "2  [76.4, 73.2, 72.4, 73.0, 73.0, 70.8, 69.2, 69....   male   \n",
       "3  [28.6, 29.4, 29.4, 29.4, 28.0, 27.0, 25.2, 23....   male   \n",
       "4  [32.0, 32.0, 32.0, 35.8, 36.2, 36.2, 36.2, 36....   male   \n",
       "\n",
       "                                          heart_rate         id  \\\n",
       "0  [100, 111, 120, 119, 120, 116, 125, 128, 131, ...  396826535   \n",
       "1  [100, 105, 111, 110, 108, 115, 126, 130, 132, ...  392337038   \n",
       "2  [99, 105, 113, 110, 109, 110, 108, 121, 116, 1...  389643739   \n",
       "3  [99, 105, 113, 109, 112, 116, 116, 114, 114, 1...  386729739   \n",
       "4  [110, 113, 114, 116, 123, 126, 129, 135, 137, ...  383186560   \n",
       "\n",
       "                                            latitude  \\\n",
       "0  [60.173348765820265, 60.173239801079035, 60.17...   \n",
       "1  [60.173247596248984, 60.17320962622762, 60.172...   \n",
       "2  [60.17326201312244, 60.173205351457, 60.172969...   \n",
       "3  [60.173286236822605, 60.17323946580291, 60.173...   \n",
       "4  [60.17329327762127, 60.17327332869172, 60.1732...   \n",
       "\n",
       "                                           longitude  \\\n",
       "0  [24.64977040886879, 24.65014273300767, 24.6509...   \n",
       "1  [24.649855233728886, 24.65015547350049, 24.650...   \n",
       "2  [24.64995657093823, 24.650197718292475, 24.651...   \n",
       "3  [24.649874344468117, 24.650242729112506, 24.65...   \n",
       "4  [24.64979832060635, 24.64992195367813, 24.6500...   \n",
       "\n",
       "                                               speed             sport  \\\n",
       "0  [6.8652, 16.4736, 19.1988, 20.4804, 31.3956, 3...              bike   \n",
       "1  [9.0792, 13.284, 15.9336, 10.9476, 16.1676, 30...              bike   \n",
       "2  [4.0464, 13.8204, 16.9776, 19.9404, 28.7856, 3...              bike   \n",
       "3  [7.4988, 15.4008, 17.8668, 21.5712, 24.1416, 3...              bike   \n",
       "4                                                NaN  bike (transport)   \n",
       "\n",
       "                                           timestamp  \\\n",
       "0  [1408898746, 1408898754, 1408898765, 140889877...   \n",
       "1  [1408221682, 1408221687, 1408221699, 140822170...   \n",
       "2  [1407858459, 1407858466, 1407858478, 140785849...   \n",
       "3  [1407432042, 1407432048, 1407432056, 140743206...   \n",
       "4  [1406909434, 1406909436, 1406909437, 140690943...   \n",
       "\n",
       "                                                 url    userId  \n",
       "0  https://www.endomondo.com/users/10921915/worko...  10921915  \n",
       "1  https://www.endomondo.com/users/10921915/worko...  10921915  \n",
       "2  https://www.endomondo.com/users/10921915/worko...  10921915  \n",
       "3  https://www.endomondo.com/users/10921915/worko...  10921915  \n",
       "4  https://www.endomondo.com/users/10921915/worko...  10921915  "
      ]
     },
     "execution_count": 51,
     "metadata": {},
     "output_type": "execute_result"
    }
   ],
   "source": [
    "df.head()"
   ]
  },
  {
   "cell_type": "code",
   "execution_count": 38,
   "metadata": {},
   "outputs": [],
   "source": [
    "df.to_csv('Dataset/sample.csv', index=False, header=False)"
   ]
  },
  {
   "cell_type": "code",
   "execution_count": 7,
   "metadata": {},
   "outputs": [],
   "source": [
    "df.to_json(r'Dataset/sample.json', orient='records')"
   ]
  },
  {
   "cell_type": "code",
   "execution_count": 46,
   "metadata": {},
   "outputs": [
    {
     "data": {
      "text/plain": [
       "(51, 11)"
      ]
     },
     "execution_count": 46,
     "metadata": {},
     "output_type": "execute_result"
    }
   ],
   "source": [
    "df.shape"
   ]
  },
  {
   "cell_type": "code",
   "execution_count": 55,
   "metadata": {},
   "outputs": [
    {
     "data": {
      "image/png": "[encoded data removed]",
      "text/plain": [
       "<Figure size 432x288 with 1 Axes>"
      ]
     },
     "metadata": {
      "needs_background": "light"
     },
     "output_type": "display_data"
    }
   ],
   "source": [
    "for val in df.iterrows():\n",
    "    lat = list(val[1].latitude)\n",
    "    lon = list(val[1].longitude)\n",
    "    \n",
    "    avg_lat = sum(lat) / len(lat)\n",
    "    avg_lon = sum(lon) / len(lon)\n",
    "    \n",
    "#     plt.plot(lat, lon)\n",
    "#     plt.scatter(lat[0], lon[0])\n",
    "    \n",
    "    plt.plot(avg_lat, avg_lon, marker=\"X\")\n",
    "    "
   ]
  },
  {
   "cell_type": "code",
   "execution_count": null,
   "metadata": {},
   "outputs": [],
   "source": []
  }
 ],
 "metadata": {
  "kernelspec": {
   "display_name": "Python 3",
   "language": "python",
   "name": "python3"
  },
  "language_info": {
   "codemirror_mode": {
    "name": "ipython",
    "version": 3
   },
   "file_extension": ".py",
   "mimetype": "text/x-python",
   "name": "python",
   "nbconvert_exporter": "python",
   "pygments_lexer": "ipython3",
   "version": "3.6.7"
  }
 },
 "nbformat": 4,
 "nbformat_minor": 2
}
