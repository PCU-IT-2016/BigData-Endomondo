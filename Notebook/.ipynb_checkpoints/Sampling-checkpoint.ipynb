{
 "cells": [
  {
   "cell_type": "code",
   "execution_count": 39,
   "metadata": {},
   "outputs": [],
   "source": [
    "import numpy as np\n",
    "import pandas as pd\n",
    "import matplotlib.pyplot as plt\n",
    "from sklearn.cluster import KMeans\n",
    "from scipy.spatial import distance"
   ]
  },
  {
   "cell_type": "code",
   "execution_count": 48,
   "metadata": {},
   "outputs": [],
   "source": [
    "records = 10\n",
    "data = []"
   ]
  },
  {
   "cell_type": "code",
   "execution_count": 49,
   "metadata": {},
   "outputs": [],
   "source": [
    "with open('Dataset/endomondoHR_proper.json') as f:\n",
    "    for record_counter, l in enumerate(f):\n",
    "        data.append(eval(l))\n",
    "        if record_counter >= records:\n",
    "            break"
   ]
  },
  {
   "cell_type": "code",
   "execution_count": 50,
   "metadata": {},
   "outputs": [],
   "source": [
    "df = pd.DataFrame(data)"
   ]
  },
  {
   "cell_type": "code",
   "execution_count": 51,
   "metadata": {},
   "outputs": [
    {
     "data": {
      "text/html": [
       "<div>\n",
       "<style scoped>\n",
       "    .dataframe tbody tr th:only-of-type {\n",
       "        vertical-align: middle;\n",
       "    }\n",
       "\n",
       "    .dataframe tbody tr th {\n",
       "        vertical-align: top;\n",
       "    }\n",
       "\n",
       "    .dataframe thead th {\n",
       "        text-align: right;\n",
       "    }\n",
       "</style>\n",
       "<table border=\"1\" class=\"dataframe\">\n",
       "  <thead>\n",
       "    <tr style=\"text-align: right;\">\n",
       "      <th></th>\n",
       "      <th>altitude</th>\n",
       "      <th>gender</th>\n",
       "      <th>heart_rate</th>\n",
       "      <th>id</th>\n",
       "      <th>latitude</th>\n",
       "      <th>longitude</th>\n",
       "      <th>speed</th>\n",
       "      <th>sport</th>\n",
       "      <th>timestamp</th>\n",
       "      <th>url</th>\n",
       "      <th>userId</th>\n",
       "    </tr>\n",
       "  </thead>\n",
       "  <tbody>\n",
       "    <tr>\n",
       "      <th>0</th>\n",
       "      <td>[41.6, 40.6, 40.6, 38.4, 37.0, 34.0, 34.0, 34....</td>\n",
       "      <td>male</td>\n",
       "      <td>[100, 111, 120, 119, 120, 116, 125, 128, 131, ...</td>\n",
       "      <td>396826535</td>\n",
       "      <td>[60.173348765820265, 60.173239801079035, 60.17...</td>\n",
       "      <td>[24.64977040886879, 24.65014273300767, 24.6509...</td>\n",
       "      <td>[6.8652, 16.4736, 19.1988, 20.4804, 31.3956, 3...</td>\n",
       "      <td>bike</td>\n",
       "      <td>[1408898746, 1408898754, 1408898765, 140889877...</td>\n",
       "      <td>https://www.endomondo.com/users/10921915/worko...</td>\n",
       "      <td>10921915</td>\n",
       "    </tr>\n",
       "    <tr>\n",
       "      <th>1</th>\n",
       "      <td>[38.4, 39.0, 39.0, 38.2, 36.8, 36.8, 36.8, 35....</td>\n",
       "      <td>male</td>\n",
       "      <td>[100, 105, 111, 110, 108, 115, 126, 130, 132, ...</td>\n",
       "      <td>392337038</td>\n",
       "      <td>[60.173247596248984, 60.17320962622762, 60.172...</td>\n",
       "      <td>[24.649855233728886, 24.65015547350049, 24.650...</td>\n",
       "      <td>[9.0792, 13.284, 15.9336, 10.9476, 16.1676, 30...</td>\n",
       "      <td>bike</td>\n",
       "      <td>[1408221682, 1408221687, 1408221699, 140822170...</td>\n",
       "      <td>https://www.endomondo.com/users/10921915/worko...</td>\n",
       "      <td>10921915</td>\n",
       "    </tr>\n",
       "    <tr>\n",
       "      <th>2</th>\n",
       "      <td>[76.4, 73.2, 72.4, 73.0, 73.0, 70.8, 69.2, 69....</td>\n",
       "      <td>male</td>\n",
       "      <td>[99, 105, 113, 110, 109, 110, 108, 121, 116, 1...</td>\n",
       "      <td>389643739</td>\n",
       "      <td>[60.17326201312244, 60.173205351457, 60.172969...</td>\n",
       "      <td>[24.64995657093823, 24.650197718292475, 24.651...</td>\n",
       "      <td>[4.0464, 13.8204, 16.9776, 19.9404, 28.7856, 3...</td>\n",
       "      <td>bike</td>\n",
       "      <td>[1407858459, 1407858466, 1407858478, 140785849...</td>\n",
       "      <td>https://www.endomondo.com/users/10921915/worko...</td>\n",
       "      <td>10921915</td>\n",
       "    </tr>\n",
       "    <tr>\n",
       "      <th>3</th>\n",
       "      <td>[28.6, 29.4, 29.4, 29.4, 28.0, 27.0, 25.2, 23....</td>\n",
       "      <td>male</td>\n",
       "      <td>[99, 105, 113, 109, 112, 116, 116, 114, 114, 1...</td>\n",
       "      <td>386729739</td>\n",
       "      <td>[60.173286236822605, 60.17323946580291, 60.173...</td>\n",
       "      <td>[24.649874344468117, 24.650242729112506, 24.65...</td>\n",
       "      <td>[7.4988, 15.4008, 17.8668, 21.5712, 24.1416, 3...</td>\n",
       "      <td>bike</td>\n",
       "      <td>[1407432042, 1407432048, 1407432056, 140743206...</td>\n",
       "      <td>https://www.endomondo.com/users/10921915/worko...</td>\n",
       "      <td>10921915</td>\n",
       "    </tr>\n",
       "    <tr>\n",
       "      <th>4</th>\n",
       "      <td>[32.0, 32.0, 32.0, 35.8, 36.2, 36.2, 36.2, 36....</td>\n",
       "      <td>male</td>\n",
       "      <td>[110, 113, 114, 116, 123, 126, 129, 135, 137, ...</td>\n",
       "      <td>383186560</td>\n",
       "      <td>[60.17329327762127, 60.17327332869172, 60.1732...</td>\n",
       "      <td>[24.64979832060635, 24.64992195367813, 24.6500...</td>\n",
       "      <td>NaN</td>\n",
       "      <td>bike (transport)</td>\n",
       "      <td>[1406909434, 1406909436, 1406909437, 140690943...</td>\n",
       "      <td>https://www.endomondo.com/users/10921915/worko...</td>\n",
       "      <td>10921915</td>\n",
       "    </tr>\n",
       "  </tbody>\n",
       "</table>\n",
       "</div>"
      ],
      "text/plain": [
       "                                            altitude gender  \\\n",
       "0  [41.6, 40.6, 40.6, 38.4, 37.0, 34.0, 34.0, 34....   male   \n",
       "1  [38.4, 39.0, 39.0, 38.2, 36.8, 36.8, 36.8, 35....   male   \n",
       "2  [76.4, 73.2, 72.4, 73.0, 73.0, 70.8, 69.2, 69....   male   \n",
       "3  [28.6, 29.4, 29.4, 29.4, 28.0, 27.0, 25.2, 23....   male   \n",
       "4  [32.0, 32.0, 32.0, 35.8, 36.2, 36.2, 36.2, 36....   male   \n",
       "\n",
       "                                          heart_rate         id  \\\n",
       "0  [100, 111, 120, 119, 120, 116, 125, 128, 131, ...  396826535   \n",
       "1  [100, 105, 111, 110, 108, 115, 126, 130, 132, ...  392337038   \n",
       "2  [99, 105, 113, 110, 109, 110, 108, 121, 116, 1...  389643739   \n",
       "3  [99, 105, 113, 109, 112, 116, 116, 114, 114, 1...  386729739   \n",
       "4  [110, 113, 114, 116, 123, 126, 129, 135, 137, ...  383186560   \n",
       "\n",
       "                                            latitude  \\\n",
       "0  [60.173348765820265, 60.173239801079035, 60.17...   \n",
       "1  [60.173247596248984, 60.17320962622762, 60.172...   \n",
       "2  [60.17326201312244, 60.173205351457, 60.172969...   \n",
       "3  [60.173286236822605, 60.17323946580291, 60.173...   \n",
       "4  [60.17329327762127, 60.17327332869172, 60.1732...   \n",
       "\n",
       "                                           longitude  \\\n",
       "0  [24.64977040886879, 24.65014273300767, 24.6509...   \n",
       "1  [24.649855233728886, 24.65015547350049, 24.650...   \n",
       "2  [24.64995657093823, 24.650197718292475, 24.651...   \n",
       "3  [24.649874344468117, 24.650242729112506, 24.65...   \n",
       "4  [24.64979832060635, 24.64992195367813, 24.6500...   \n",
       "\n",
       "                                               speed             sport  \\\n",
       "0  [6.8652, 16.4736, 19.1988, 20.4804, 31.3956, 3...              bike   \n",
       "1  [9.0792, 13.284, 15.9336, 10.9476, 16.1676, 30...              bike   \n",
       "2  [4.0464, 13.8204, 16.9776, 19.9404, 28.7856, 3...              bike   \n",
       "3  [7.4988, 15.4008, 17.8668, 21.5712, 24.1416, 3...              bike   \n",
       "4                                                NaN  bike (transport)   \n",
       "\n",
       "                                           timestamp  \\\n",
       "0  [1408898746, 1408898754, 1408898765, 140889877...   \n",
       "1  [1408221682, 1408221687, 1408221699, 140822170...   \n",
       "2  [1407858459, 1407858466, 1407858478, 140785849...   \n",
       "3  [1407432042, 1407432048, 1407432056, 140743206...   \n",
       "4  [1406909434, 1406909436, 1406909437, 140690943...   \n",
       "\n",
       "                                                 url    userId  \n",
       "0  https://www.endomondo.com/users/10921915/worko...  10921915  \n",
       "1  https://www.endomondo.com/users/10921915/worko...  10921915  \n",
       "2  https://www.endomondo.com/users/10921915/worko...  10921915  \n",
       "3  https://www.endomondo.com/users/10921915/worko...  10921915  \n",
       "4  https://www.endomondo.com/users/10921915/worko...  10921915  "
      ]
     },
     "execution_count": 51,
     "metadata": {},
     "output_type": "execute_result"
    }
   ],
   "source": [
    "df.head()"
   ]
  },
  {
   "cell_type": "code",
   "execution_count": 38,
   "metadata": {},
   "outputs": [],
   "source": [
    "df.to_csv('Dataset/sample.csv', index=False, header=False)"
   ]
  },
  {
   "cell_type": "code",
   "execution_count": 7,
   "metadata": {},
   "outputs": [],
   "source": [
    "df.to_json(r'Dataset/sample.json', orient='records')"
   ]
  },
  {
   "cell_type": "code",
   "execution_count": 46,
   "metadata": {},
   "outputs": [
    {
     "data": {
      "text/plain": [
       "(51, 11)"
      ]
     },
     "execution_count": 46,
     "metadata": {},
     "output_type": "execute_result"
    }
   ],
   "source": [
    "df.shape"
   ]
  },
  {
   "cell_type": "code",
   "execution_count": 56,
   "metadata": {},
   "outputs": [
    {
     "data": {
      "image/png": "[encoded data removed]",
      "text/plain": [
       "<Figure size 432x288 with 1 Axes>"
      ]
     },
     "metadata": {
      "needs_background": "light"
     },
     "output_type": "display_data"
    }
   ],
   "source": [
    "for val in df.iterrows():\n",
    "    lat = list(val[1].latitude)\n",
    "    lon = list(val[1].longitude)\n",
    "    \n",
    "    avg_lat = sum(lat) / len(lat)\n",
    "    avg_lon = sum(lon) / len(lon)\n",
    "    \n",
    "#     plt.plot(lat, lon)\n",
    "#     plt.scatter(lat[0], lon[0])\n",
    "    \n",
    "    plt.plot(avg_lat, avg_lon, marker=\"X\")\n",
    "    "
   ]
  },
  {
   "cell_type": "code",
   "execution_count": 3,
   "metadata": {},
   "outputs": [
    {
     "data": {
      "text/html": [
       "<div>\n",
       "<style scoped>\n",
       "    .dataframe tbody tr th:only-of-type {\n",
       "        vertical-align: middle;\n",
       "    }\n",
       "\n",
       "    .dataframe tbody tr th {\n",
       "        vertical-align: top;\n",
       "    }\n",
       "\n",
       "    .dataframe thead th {\n",
       "        text-align: right;\n",
       "    }\n",
       "</style>\n",
       "<table border=\"1\" class=\"dataframe\">\n",
       "  <thead>\n",
       "    <tr style=\"text-align: right;\">\n",
       "      <th></th>\n",
       "      <th>gender</th>\n",
       "      <th>heart_rate</th>\n",
       "      <th>id</th>\n",
       "      <th>lat</th>\n",
       "      <th>lon</th>\n",
       "      <th>speed</th>\n",
       "      <th>sport</th>\n",
       "      <th>userId</th>\n",
       "    </tr>\n",
       "  </thead>\n",
       "  <tbody>\n",
       "    <tr>\n",
       "      <th>0</th>\n",
       "      <td>female</td>\n",
       "      <td>0.0</td>\n",
       "      <td>490077540</td>\n",
       "      <td>23.401958</td>\n",
       "      <td>120.174270</td>\n",
       "      <td>0.0</td>\n",
       "      <td>bike</td>\n",
       "      <td>1040960</td>\n",
       "    </tr>\n",
       "    <tr>\n",
       "      <th>1</th>\n",
       "      <td>female</td>\n",
       "      <td>0.0</td>\n",
       "      <td>423547356</td>\n",
       "      <td>23.254675</td>\n",
       "      <td>120.209114</td>\n",
       "      <td>0.0</td>\n",
       "      <td>bike</td>\n",
       "      <td>1040960</td>\n",
       "    </tr>\n",
       "    <tr>\n",
       "      <th>2</th>\n",
       "      <td>female</td>\n",
       "      <td>0.0</td>\n",
       "      <td>460371302</td>\n",
       "      <td>23.246359</td>\n",
       "      <td>120.341980</td>\n",
       "      <td>0.0</td>\n",
       "      <td>bike</td>\n",
       "      <td>1040960</td>\n",
       "    </tr>\n",
       "    <tr>\n",
       "      <th>3</th>\n",
       "      <td>female</td>\n",
       "      <td>0.0</td>\n",
       "      <td>423547900</td>\n",
       "      <td>23.219341</td>\n",
       "      <td>120.352325</td>\n",
       "      <td>0.0</td>\n",
       "      <td>bike</td>\n",
       "      <td>1040960</td>\n",
       "    </tr>\n",
       "    <tr>\n",
       "      <th>4</th>\n",
       "      <td>female</td>\n",
       "      <td>0.0</td>\n",
       "      <td>432926410</td>\n",
       "      <td>23.667118</td>\n",
       "      <td>120.362260</td>\n",
       "      <td>0.0</td>\n",
       "      <td>bike</td>\n",
       "      <td>1040960</td>\n",
       "    </tr>\n",
       "  </tbody>\n",
       "</table>\n",
       "</div>"
      ],
      "text/plain": [
       "   gender  heart_rate         id        lat         lon  speed sport   userId\n",
       "0  female         0.0  490077540  23.401958  120.174270    0.0  bike  1040960\n",
       "1  female         0.0  423547356  23.254675  120.209114    0.0  bike  1040960\n",
       "2  female         0.0  460371302  23.246359  120.341980    0.0  bike  1040960\n",
       "3  female         0.0  423547900  23.219341  120.352325    0.0  bike  1040960\n",
       "4  female         0.0  432926410  23.667118  120.362260    0.0  bike  1040960"
      ]
     },
     "execution_count": 3,
     "metadata": {},
     "output_type": "execute_result"
    }
   ],
   "source": [
    "clean_df = pd.read_json('Dataset/clean_feature.json', lines=True)\n",
    "clean_df.head()"
   ]
  },
  {
   "cell_type": "code",
   "execution_count": 4,
   "metadata": {},
   "outputs": [
    {
     "data": {
      "text/plain": [
       "(167783, 8)"
      ]
     },
     "execution_count": 4,
     "metadata": {},
     "output_type": "execute_result"
    }
   ],
   "source": [
    "clean_df.shape"
   ]
  },
  {
   "cell_type": "code",
   "execution_count": 5,
   "metadata": {},
   "outputs": [
    {
     "data": {
      "text/html": [
       "<div>\n",
       "<style scoped>\n",
       "    .dataframe tbody tr th:only-of-type {\n",
       "        vertical-align: middle;\n",
       "    }\n",
       "\n",
       "    .dataframe tbody tr th {\n",
       "        vertical-align: top;\n",
       "    }\n",
       "\n",
       "    .dataframe thead th {\n",
       "        text-align: right;\n",
       "    }\n",
       "</style>\n",
       "<table border=\"1\" class=\"dataframe\">\n",
       "  <thead>\n",
       "    <tr style=\"text-align: right;\">\n",
       "      <th></th>\n",
       "      <th>heart_rate</th>\n",
       "      <th>id</th>\n",
       "      <th>lat</th>\n",
       "      <th>lon</th>\n",
       "      <th>speed</th>\n",
       "      <th>userId</th>\n",
       "    </tr>\n",
       "  </thead>\n",
       "  <tbody>\n",
       "    <tr>\n",
       "      <th>count</th>\n",
       "      <td>167783.000000</td>\n",
       "      <td>1.677830e+05</td>\n",
       "      <td>167783.000000</td>\n",
       "      <td>167783.000000</td>\n",
       "      <td>167783.000000</td>\n",
       "      <td>1.677830e+05</td>\n",
       "    </tr>\n",
       "    <tr>\n",
       "      <th>mean</th>\n",
       "      <td>138.707878</td>\n",
       "      <td>3.614781e+08</td>\n",
       "      <td>42.973643</td>\n",
       "      <td>12.009657</td>\n",
       "      <td>3.957165</td>\n",
       "      <td>4.565819e+06</td>\n",
       "    </tr>\n",
       "    <tr>\n",
       "      <th>std</th>\n",
       "      <td>18.961298</td>\n",
       "      <td>1.571586e+08</td>\n",
       "      <td>20.652264</td>\n",
       "      <td>49.691062</td>\n",
       "      <td>8.993335</td>\n",
       "      <td>3.906677e+06</td>\n",
       "    </tr>\n",
       "    <tr>\n",
       "      <th>min</th>\n",
       "      <td>-800.836000</td>\n",
       "      <td>2.579360e+05</td>\n",
       "      <td>-51.418694</td>\n",
       "      <td>-159.997830</td>\n",
       "      <td>0.000000</td>\n",
       "      <td>6.900000e+01</td>\n",
       "    </tr>\n",
       "    <tr>\n",
       "      <th>25%</th>\n",
       "      <td>128.440000</td>\n",
       "      <td>2.581375e+08</td>\n",
       "      <td>39.559109</td>\n",
       "      <td>-0.368891</td>\n",
       "      <td>0.000000</td>\n",
       "      <td>1.483178e+06</td>\n",
       "    </tr>\n",
       "    <tr>\n",
       "      <th>50%</th>\n",
       "      <td>140.096000</td>\n",
       "      <td>3.539223e+08</td>\n",
       "      <td>50.365105</td>\n",
       "      <td>11.050133</td>\n",
       "      <td>0.000000</td>\n",
       "      <td>3.365457e+06</td>\n",
       "    </tr>\n",
       "    <tr>\n",
       "      <th>75%</th>\n",
       "      <td>150.710000</td>\n",
       "      <td>4.787096e+08</td>\n",
       "      <td>55.656042</td>\n",
       "      <td>19.767941</td>\n",
       "      <td>0.000000</td>\n",
       "      <td>6.919744e+06</td>\n",
       "    </tr>\n",
       "    <tr>\n",
       "      <th>max</th>\n",
       "      <td>239.000000</td>\n",
       "      <td>6.740080e+08</td>\n",
       "      <td>69.664510</td>\n",
       "      <td>177.334580</td>\n",
       "      <td>74.857840</td>\n",
       "      <td>1.548142e+07</td>\n",
       "    </tr>\n",
       "  </tbody>\n",
       "</table>\n",
       "</div>"
      ],
      "text/plain": [
       "          heart_rate            id            lat            lon  \\\n",
       "count  167783.000000  1.677830e+05  167783.000000  167783.000000   \n",
       "mean      138.707878  3.614781e+08      42.973643      12.009657   \n",
       "std        18.961298  1.571586e+08      20.652264      49.691062   \n",
       "min      -800.836000  2.579360e+05     -51.418694    -159.997830   \n",
       "25%       128.440000  2.581375e+08      39.559109      -0.368891   \n",
       "50%       140.096000  3.539223e+08      50.365105      11.050133   \n",
       "75%       150.710000  4.787096e+08      55.656042      19.767941   \n",
       "max       239.000000  6.740080e+08      69.664510     177.334580   \n",
       "\n",
       "               speed        userId  \n",
       "count  167783.000000  1.677830e+05  \n",
       "mean        3.957165  4.565819e+06  \n",
       "std         8.993335  3.906677e+06  \n",
       "min         0.000000  6.900000e+01  \n",
       "25%         0.000000  1.483178e+06  \n",
       "50%         0.000000  3.365457e+06  \n",
       "75%         0.000000  6.919744e+06  \n",
       "max        74.857840  1.548142e+07  "
      ]
     },
     "execution_count": 5,
     "metadata": {},
     "output_type": "execute_result"
    }
   ],
   "source": [
    "clean_df.describe()"
   ]
  },
  {
   "cell_type": "code",
   "execution_count": 10,
   "metadata": {},
   "outputs": [
    {
     "data": {
      "text/html": [
       "<div>\n",
       "<style scoped>\n",
       "    .dataframe tbody tr th:only-of-type {\n",
       "        vertical-align: middle;\n",
       "    }\n",
       "\n",
       "    .dataframe tbody tr th {\n",
       "        vertical-align: top;\n",
       "    }\n",
       "\n",
       "    .dataframe thead th {\n",
       "        text-align: right;\n",
       "    }\n",
       "</style>\n",
       "<table border=\"1\" class=\"dataframe\">\n",
       "  <thead>\n",
       "    <tr style=\"text-align: right;\">\n",
       "      <th></th>\n",
       "      <th>gender</th>\n",
       "      <th>heart_rate</th>\n",
       "      <th>id</th>\n",
       "      <th>lat</th>\n",
       "      <th>lon</th>\n",
       "      <th>speed</th>\n",
       "      <th>sport</th>\n",
       "      <th>userId</th>\n",
       "    </tr>\n",
       "  </thead>\n",
       "  <tbody>\n",
       "    <tr>\n",
       "      <th>156496</th>\n",
       "      <td>male</td>\n",
       "      <td>166.084</td>\n",
       "      <td>381185226</td>\n",
       "      <td>60.17805</td>\n",
       "      <td>24.729868</td>\n",
       "      <td>29.59229</td>\n",
       "      <td>bike (transport)</td>\n",
       "      <td>10921915</td>\n",
       "    </tr>\n",
       "  </tbody>\n",
       "</table>\n",
       "</div>"
      ],
      "text/plain": [
       "       gender  heart_rate         id       lat        lon     speed  \\\n",
       "156496   male     166.084  381185226  60.17805  24.729868  29.59229   \n",
       "\n",
       "                   sport    userId  \n",
       "156496  bike (transport)  10921915  "
      ]
     },
     "execution_count": 10,
     "metadata": {},
     "output_type": "execute_result"
    }
   ],
   "source": [
    "clean_df.loc[clean_df.id == 381185226]"
   ]
  },
  {
   "cell_type": "code",
   "execution_count": 11,
   "metadata": {},
   "outputs": [
    {
     "data": {
      "text/plain": [
       "array(['bike', 'run', 'walk', 'fitness walking', 'cross-country skiing',\n",
       "       'hiking', 'core stability training', 'bike (transport)',\n",
       "       'mountain bike', 'kayaking', 'indoor cycling', 'circuit training',\n",
       "       'swimming', 'weight training', 'roller skiing', 'horseback riding',\n",
       "       'rowing', 'skate', 'orienteering', 'snowshoeing', 'aerobics',\n",
       "       'gymnastics', 'downhill skiing', 'snowboarding', 'stair climing',\n",
       "       'martial arts', 'soccer', 'golf', 'pilates', 'treadmill running',\n",
       "       'tennis', 'badminton', 'basketball', 'elliptical', 'climbing',\n",
       "       'windsurfing', 'rugby', 'squash', 'kite surfing', 'sailing',\n",
       "       'treadmill walking', 'table tennis', 'yoga'], dtype=object)"
      ]
     },
     "execution_count": 11,
     "metadata": {},
     "output_type": "execute_result"
    }
   ],
   "source": [
    "clean_df.sport.unique()"
   ]
  },
  {
   "cell_type": "code",
   "execution_count": 12,
   "metadata": {},
   "outputs": [
    {
     "data": {
      "text/plain": [
       "array(['bike', 'run', 'walk', 'fitness walking', 'cross-country skiing',\n",
       "       'hiking', 'core stability training', 'bike (transport)',\n",
       "       'mountain bike', 'kayaking', 'indoor cycling', 'circuit training',\n",
       "       'swimming', 'weight training', 'roller skiing', 'horseback riding',\n",
       "       'rowing', 'skate', 'orienteering', 'snowshoeing', 'aerobics',\n",
       "       'gymnastics', 'downhill skiing', 'snowboarding', 'stair climing',\n",
       "       'martial arts', 'soccer', 'golf', 'pilates', 'treadmill running',\n",
       "       'tennis', 'badminton', 'basketball', 'elliptical', 'climbing',\n",
       "       'windsurfing', 'rugby', 'squash', 'kite surfing', 'sailing',\n",
       "       'treadmill walking', 'table tennis', 'yoga'], dtype=object)"
      ]
     },
     "execution_count": 12,
     "metadata": {},
     "output_type": "execute_result"
    }
   ],
   "source": [
    "clean_df.sport.unique()"
   ]
  },
  {
   "cell_type": "code",
   "execution_count": 16,
   "metadata": {},
   "outputs": [
    {
     "data": {
      "text/plain": [
       "<matplotlib.collections.PathCollection at 0x282999e7080>"
      ]
     },
     "execution_count": 16,
     "metadata": {},
     "output_type": "execute_result"
    },
    {
     "data": {
      "image/png": "[encoded data removed]",
      "text/plain": [
       "<Figure size 432x288 with 1 Axes>"
      ]
     },
     "metadata": {
      "needs_background": "light"
     },
     "output_type": "display_data"
    }
   ],
   "source": [
    "plt.scatter(clean_df.loc[:, 'lat'], clean_df.loc[:, 'lon'], s=5)"
   ]
  },
  {
   "cell_type": "code",
   "execution_count": 28,
   "metadata": {},
   "outputs": [
    {
     "data": {
      "text/plain": [
       "KMeans(algorithm='auto', copy_x=True, init='k-means++', max_iter=300,\n",
       "    n_clusters=6, n_init=10, n_jobs=None, precompute_distances='auto',\n",
       "    random_state=None, tol=0.0001, verbose=0)"
      ]
     },
     "execution_count": 28,
     "metadata": {},
     "output_type": "execute_result"
    }
   ],
   "source": [
    "model = KMeans(n_clusters=6)\n",
    "model.fit(clean_df.loc[:, ['lat', 'lon']])"
   ]
  },
  {
   "cell_type": "code",
   "execution_count": 29,
   "metadata": {},
   "outputs": [
    {
     "data": {
      "text/plain": [
       "array([[ 54.11834758,  15.73213619],\n",
       "       [ 20.05908392, 106.77277172],\n",
       "       [ 37.50810277, -89.37194383],\n",
       "       [ 46.82621795,  -1.04528612],\n",
       "       [-36.83479943, 163.7011262 ],\n",
       "       [-25.51722023,  -7.82805834]])"
      ]
     },
     "execution_count": 29,
     "metadata": {},
     "output_type": "execute_result"
    }
   ],
   "source": [
    "model.cluster_centers_"
   ]
  },
  {
   "cell_type": "code",
   "execution_count": 40,
   "metadata": {},
   "outputs": [],
   "source": [
    "X = clean_df.loc[:, ['lat', 'lon']]"
   ]
  },
  {
   "cell_type": "code",
   "execution_count": 36,
   "metadata": {},
   "outputs": [],
   "source": [
    "predictions = model.predict(clean_df.loc[:, ['lat', 'lon']])"
   ]
  },
  {
   "cell_type": "code",
   "execution_count": 38,
   "metadata": {},
   "outputs": [
    {
     "data": {
      "text/plain": [
       "<matplotlib.collections.PathCollection at 0x28299e0e1d0>"
      ]
     },
     "execution_count": 38,
     "metadata": {},
     "output_type": "execute_result"
    },
    {
     "data": {
      "image/png": "[encoded data removed]",
      "text/plain": [
       "<Figure size 432x288 with 1 Axes>"
      ]
     },
     "metadata": {
      "needs_background": "light"
     },
     "output_type": "display_data"
    }
   ],
   "source": [
    "plt.scatter(clean_df.loc[:, 'lat'], clean_df.loc[:, 'lon'], c=predictions, s=5)\n",
    "plt.scatter(model.cluster_centers_[:, 0], model.cluster_centers_[:, 1], marker=\"X\", s=100, c='black')"
   ]
  },
  {
   "cell_type": "code",
   "execution_count": 47,
   "metadata": {},
   "outputs": [
    {
     "data": {
      "text/plain": [
       "Text(0.5, 1.0, 'Elbow method using inertia_')"
      ]
     },
     "execution_count": 47,
     "metadata": {},
     "output_type": "execute_result"
    },
    {
     "data": {
      "image/png": "[encoded data removed]",
      "text/plain": [
       "<Figure size 432x288 with 1 Axes>"
      ]
     },
     "metadata": {
      "needs_background": "light"
     },
     "output_type": "display_data"
    }
   ],
   "source": [
    "# distortions = []\n",
    "inertias_ = []\n",
    "\n",
    "k_range = range(1, 10)\n",
    "\n",
    "for k in k_range:\n",
    "    model = KMeans(n_clusters=k, random_state=88)\n",
    "    model.fit(X)\n",
    "    inertias_.append(model.inertia_)\n",
    "    # distortions.append(sum(np.min(distance.cdist(X.values, model.cluster_centers_, 'euclidean'), axis=1)) / X.shape[0])\n",
    "    \n",
    "plt.plot(k_range, inertias_, 'bx-')\n",
    "plt.xlabel('k')\n",
    "plt.ylabel('inertia_')\n",
    "plt.title('Elbow method using inertia_')"
   ]
  },
  {
   "cell_type": "code",
   "execution_count": 51,
   "metadata": {},
   "outputs": [
    {
     "data": {
      "text/plain": [
       "<matplotlib.collections.PathCollection at 0x28299f03fd0>"
      ]
     },
     "execution_count": 51,
     "metadata": {},
     "output_type": "execute_result"
    },
    {
     "data": {
      "image/png": "[encoded data removed]",
      "text/plain": [
       "<Figure size 432x288 with 1 Axes>"
      ]
     },
     "metadata": {
      "needs_background": "light"
     },
     "output_type": "display_data"
    }
   ],
   "source": [
    "model = KMeans(n_clusters=5, random_state=88)\n",
    "model.fit(X)\n",
    "predictions = model.predict(clean_df.loc[:, ['lat', 'lon']])\n",
    "\n",
    "plt.scatter(clean_df.loc[:, 'lat'], clean_df.loc[:, 'lon'], c=predictions, s=5)\n",
    "plt.scatter(model.cluster_centers_[:, 0], model.cluster_centers_[:, 1], marker=\"X\", s=100, c='black')"
   ]
  },
  {
   "cell_type": "code",
   "execution_count": null,
   "metadata": {},
   "outputs": [],
   "source": []
  }
 ],
 "metadata": {
  "kernelspec": {
   "display_name": "Python 3",
   "language": "python",
   "name": "python3"
  },
  "language_info": {
   "codemirror_mode": {
    "name": "ipython",
    "version": 3
   },
   "file_extension": ".py",
   "mimetype": "text/x-python",
   "name": "python",
   "nbconvert_exporter": "python",
   "pygments_lexer": "ipython3",
   "version": "3.6.7"
  }
 },
 "nbformat": 4,
 "nbformat_minor": 2
}
