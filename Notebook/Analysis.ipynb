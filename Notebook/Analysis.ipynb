{
 "cells": [
  {
   "cell_type": "code",
   "execution_count": 7,
   "metadata": {},
   "outputs": [],
   "source": [
    "import pandas as pd\n",
    "import matplotlib.pyplot as plt\n",
    "from sklearn.cluster import KMeans"
   ]
  },
  {
   "cell_type": "markdown",
   "metadata": {},
   "source": [
    "# Ada berapa sport dan apa saja ?"
   ]
  },
  {
   "cell_type": "code",
   "execution_count": 10,
   "metadata": {},
   "outputs": [
    {
     "data": {
      "text/html": [
       "<div>\n",
       "<style scoped>\n",
       "    .dataframe tbody tr th:only-of-type {\n",
       "        vertical-align: middle;\n",
       "    }\n",
       "\n",
       "    .dataframe tbody tr th {\n",
       "        vertical-align: top;\n",
       "    }\n",
       "\n",
       "    .dataframe thead th {\n",
       "        text-align: right;\n",
       "    }\n",
       "</style>\n",
       "<table border=\"1\" class=\"dataframe\">\n",
       "  <thead>\n",
       "    <tr style=\"text-align: right;\">\n",
       "      <th></th>\n",
       "      <th>0</th>\n",
       "      <th>1</th>\n",
       "    </tr>\n",
       "  </thead>\n",
       "  <tbody>\n",
       "    <tr>\n",
       "      <th>0</th>\n",
       "      <td>aerobics</td>\n",
       "      <td>7</td>\n",
       "    </tr>\n",
       "    <tr>\n",
       "      <th>1</th>\n",
       "      <td>badminton</td>\n",
       "      <td>10</td>\n",
       "    </tr>\n",
       "    <tr>\n",
       "      <th>2</th>\n",
       "      <td>basketball</td>\n",
       "      <td>8</td>\n",
       "    </tr>\n",
       "    <tr>\n",
       "      <th>3</th>\n",
       "      <td>bike</td>\n",
       "      <td>71915</td>\n",
       "    </tr>\n",
       "    <tr>\n",
       "      <th>4</th>\n",
       "      <td>bike (transport)</td>\n",
       "      <td>7757</td>\n",
       "    </tr>\n",
       "  </tbody>\n",
       "</table>\n",
       "</div>"
      ],
      "text/plain": [
       "                  0      1\n",
       "0          aerobics      7\n",
       "1         badminton     10\n",
       "2        basketball      8\n",
       "3              bike  71915\n",
       "4  bike (transport)   7757"
      ]
     },
     "execution_count": 10,
     "metadata": {},
     "output_type": "execute_result"
    }
   ],
   "source": [
    "sport_df = pd.read_csv('recommendation/sport_count.csv', header=None)\n",
    "sport_df.head()"
   ]
  },
  {
   "cell_type": "code",
   "execution_count": 12,
   "metadata": {},
   "outputs": [
    {
     "data": {
      "text/plain": [
       "array(['aerobics', 'badminton', 'basketball', 'bike', 'bike (transport)',\n",
       "       'circuit training', 'climbing', 'core stability training',\n",
       "       'cross-country skiing', 'downhill skiing', 'elliptical',\n",
       "       'fitness walking', 'golf', 'gymnastics', 'hiking',\n",
       "       'horseback riding', 'indoor cycling', 'kayaking', 'kite surfing',\n",
       "       'martial arts', 'mountain bike', 'orienteering', 'pilates',\n",
       "       'roller skiing', 'rowing', 'rugby', 'run', 'sailing', 'skate',\n",
       "       'snowboarding', 'snowshoeing', 'soccer', 'squash', 'stair climing',\n",
       "       'swimming', 'table tennis', 'tennis', 'treadmill running',\n",
       "       'treadmill walking', 'walk', 'weight training', 'windsurfing',\n",
       "       'yoga'], dtype=object)"
      ]
     },
     "execution_count": 12,
     "metadata": {},
     "output_type": "execute_result"
    }
   ],
   "source": [
    "sport_df[0].unique()"
   ]
  },
  {
   "cell_type": "code",
   "execution_count": 13,
   "metadata": {},
   "outputs": [
    {
     "data": {
      "text/plain": [
       "43"
      ]
     },
     "execution_count": 13,
     "metadata": {},
     "output_type": "execute_result"
    }
   ],
   "source": [
    "sport_df[0].nunique()"
   ]
  },
  {
   "cell_type": "code",
   "execution_count": 18,
   "metadata": {},
   "outputs": [
    {
     "data": {
      "text/html": [
       "<div>\n",
       "<style scoped>\n",
       "    .dataframe tbody tr th:only-of-type {\n",
       "        vertical-align: middle;\n",
       "    }\n",
       "\n",
       "    .dataframe tbody tr th {\n",
       "        vertical-align: top;\n",
       "    }\n",
       "\n",
       "    .dataframe thead th {\n",
       "        text-align: right;\n",
       "    }\n",
       "</style>\n",
       "<table border=\"1\" class=\"dataframe\">\n",
       "  <thead>\n",
       "    <tr style=\"text-align: right;\">\n",
       "      <th></th>\n",
       "      <th>0</th>\n",
       "      <th>1</th>\n",
       "    </tr>\n",
       "  </thead>\n",
       "  <tbody>\n",
       "    <tr>\n",
       "      <th>42</th>\n",
       "      <td>yoga</td>\n",
       "      <td>1</td>\n",
       "    </tr>\n",
       "    <tr>\n",
       "      <th>38</th>\n",
       "      <td>treadmill walking</td>\n",
       "      <td>1</td>\n",
       "    </tr>\n",
       "    <tr>\n",
       "      <th>32</th>\n",
       "      <td>squash</td>\n",
       "      <td>1</td>\n",
       "    </tr>\n",
       "    <tr>\n",
       "      <th>27</th>\n",
       "      <td>sailing</td>\n",
       "      <td>1</td>\n",
       "    </tr>\n",
       "    <tr>\n",
       "      <th>41</th>\n",
       "      <td>windsurfing</td>\n",
       "      <td>1</td>\n",
       "    </tr>\n",
       "  </tbody>\n",
       "</table>\n",
       "</div>"
      ],
      "text/plain": [
       "                    0  1\n",
       "42               yoga  1\n",
       "38  treadmill walking  1\n",
       "32             squash  1\n",
       "27            sailing  1\n",
       "41        windsurfing  1"
      ]
     },
     "execution_count": 18,
     "metadata": {},
     "output_type": "execute_result"
    }
   ],
   "source": [
    "sport_df = sport_df.sort_values(1)\n",
    "sport_df.head()"
   ]
  },
  {
   "cell_type": "code",
   "execution_count": 26,
   "metadata": {},
   "outputs": [
    {
     "data": {
      "text/plain": [
       "Text(0.5, 1.0, 'Dari total 43 sport. Record Bike & Run paling banyak')"
      ]
     },
     "execution_count": 26,
     "metadata": {},
     "output_type": "execute_result"
    },
    {
     "data": {
      "image/png": "[encoded data removed]",
      "text/plain": [
       "<Figure size 432x288 with 1 Axes>"
      ]
     },
     "metadata": {
      "needs_background": "light"
     },
     "output_type": "display_data"
    }
   ],
   "source": [
    "plt.barh(sport_df[0][-10:], sport_df[1][-10:])\n",
    "plt.title('Dari total 43 sport. Record Bike & Run paling banyak')"
   ]
  },
  {
   "cell_type": "markdown",
   "metadata": {},
   "source": [
    "# Distribusi gender"
   ]
  },
  {
   "cell_type": "code",
   "execution_count": 27,
   "metadata": {},
   "outputs": [
    {
     "data": {
      "text/html": [
       "<div>\n",
       "<style scoped>\n",
       "    .dataframe tbody tr th:only-of-type {\n",
       "        vertical-align: middle;\n",
       "    }\n",
       "\n",
       "    .dataframe tbody tr th {\n",
       "        vertical-align: top;\n",
       "    }\n",
       "\n",
       "    .dataframe thead th {\n",
       "        text-align: right;\n",
       "    }\n",
       "</style>\n",
       "<table border=\"1\" class=\"dataframe\">\n",
       "  <thead>\n",
       "    <tr style=\"text-align: right;\">\n",
       "      <th></th>\n",
       "      <th>gender</th>\n",
       "      <th>heart_rate</th>\n",
       "      <th>id</th>\n",
       "      <th>lat</th>\n",
       "      <th>lon</th>\n",
       "      <th>speed</th>\n",
       "      <th>sport</th>\n",
       "      <th>userId</th>\n",
       "    </tr>\n",
       "  </thead>\n",
       "  <tbody>\n",
       "    <tr>\n",
       "      <th>0</th>\n",
       "      <td>female</td>\n",
       "      <td>0.0</td>\n",
       "      <td>490077540</td>\n",
       "      <td>23.401958</td>\n",
       "      <td>120.174270</td>\n",
       "      <td>0.0</td>\n",
       "      <td>bike</td>\n",
       "      <td>1040960</td>\n",
       "    </tr>\n",
       "    <tr>\n",
       "      <th>1</th>\n",
       "      <td>female</td>\n",
       "      <td>0.0</td>\n",
       "      <td>423547356</td>\n",
       "      <td>23.254675</td>\n",
       "      <td>120.209114</td>\n",
       "      <td>0.0</td>\n",
       "      <td>bike</td>\n",
       "      <td>1040960</td>\n",
       "    </tr>\n",
       "    <tr>\n",
       "      <th>2</th>\n",
       "      <td>female</td>\n",
       "      <td>0.0</td>\n",
       "      <td>460371302</td>\n",
       "      <td>23.246359</td>\n",
       "      <td>120.341980</td>\n",
       "      <td>0.0</td>\n",
       "      <td>bike</td>\n",
       "      <td>1040960</td>\n",
       "    </tr>\n",
       "    <tr>\n",
       "      <th>3</th>\n",
       "      <td>female</td>\n",
       "      <td>0.0</td>\n",
       "      <td>423547900</td>\n",
       "      <td>23.219341</td>\n",
       "      <td>120.352325</td>\n",
       "      <td>0.0</td>\n",
       "      <td>bike</td>\n",
       "      <td>1040960</td>\n",
       "    </tr>\n",
       "    <tr>\n",
       "      <th>4</th>\n",
       "      <td>female</td>\n",
       "      <td>0.0</td>\n",
       "      <td>432926410</td>\n",
       "      <td>23.667118</td>\n",
       "      <td>120.362260</td>\n",
       "      <td>0.0</td>\n",
       "      <td>bike</td>\n",
       "      <td>1040960</td>\n",
       "    </tr>\n",
       "  </tbody>\n",
       "</table>\n",
       "</div>"
      ],
      "text/plain": [
       "   gender  heart_rate         id        lat         lon  speed sport   userId\n",
       "0  female         0.0  490077540  23.401958  120.174270    0.0  bike  1040960\n",
       "1  female         0.0  423547356  23.254675  120.209114    0.0  bike  1040960\n",
       "2  female         0.0  460371302  23.246359  120.341980    0.0  bike  1040960\n",
       "3  female         0.0  423547900  23.219341  120.352325    0.0  bike  1040960\n",
       "4  female         0.0  432926410  23.667118  120.362260    0.0  bike  1040960"
      ]
     },
     "execution_count": 27,
     "metadata": {},
     "output_type": "execute_result"
    }
   ],
   "source": [
    "df = pd.read_json('Dataset/clean_feature.json', lines=True)\n",
    "df.head()"
   ]
  },
  {
   "cell_type": "code",
   "execution_count": 28,
   "metadata": {},
   "outputs": [],
   "source": [
    "df = df.loc[df.gender != 'unknown']"
   ]
  },
  {
   "cell_type": "code",
   "execution_count": 29,
   "metadata": {},
   "outputs": [
    {
     "data": {
      "text/plain": [
       "array(['female', 'male'], dtype=object)"
      ]
     },
     "execution_count": 29,
     "metadata": {},
     "output_type": "execute_result"
    }
   ],
   "source": [
    "df.gender.unique()"
   ]
  },
  {
   "cell_type": "code",
   "execution_count": 30,
   "metadata": {},
   "outputs": [
    {
     "data": {
      "text/plain": [
       "(166598, 8)"
      ]
     },
     "execution_count": 30,
     "metadata": {},
     "output_type": "execute_result"
    }
   ],
   "source": [
    "df.shape"
   ]
  },
  {
   "cell_type": "code",
   "execution_count": 31,
   "metadata": {},
   "outputs": [
    {
     "data": {
      "text/plain": [
       "(156717, 9881)"
      ]
     },
     "execution_count": 31,
     "metadata": {},
     "output_type": "execute_result"
    }
   ],
   "source": [
    "male, female = df['gender'].value_counts()\n",
    "male, female"
   ]
  },
  {
   "cell_type": "code",
   "execution_count": 32,
   "metadata": {},
   "outputs": [
    {
     "data": {
      "text/plain": [
       "Text(0.5, 1.0, 'Distribusi gender')"
      ]
     },
     "execution_count": 32,
     "metadata": {},
     "output_type": "execute_result"
    },
    {
     "data": {
      "image/png": "[encoded data removed]",
      "text/plain": [
       "<Figure size 432x288 with 1 Axes>"
      ]
     },
     "metadata": {
      "needs_background": "light"
     },
     "output_type": "display_data"
    }
   ],
   "source": [
    "plt.bar(('male', 'female'),(male, female))\n",
    "plt.title('Distribusi gender')"
   ]
  },
  {
   "cell_type": "code",
   "execution_count": 3,
   "metadata": {},
   "outputs": [
    {
     "data": {
      "text/html": [
       "<div>\n",
       "<style scoped>\n",
       "    .dataframe tbody tr th:only-of-type {\n",
       "        vertical-align: middle;\n",
       "    }\n",
       "\n",
       "    .dataframe tbody tr th {\n",
       "        vertical-align: top;\n",
       "    }\n",
       "\n",
       "    .dataframe thead th {\n",
       "        text-align: right;\n",
       "    }\n",
       "</style>\n",
       "<table border=\"1\" class=\"dataframe\">\n",
       "  <thead>\n",
       "    <tr style=\"text-align: right;\">\n",
       "      <th></th>\n",
       "      <th>0</th>\n",
       "      <th>1</th>\n",
       "    </tr>\n",
       "  </thead>\n",
       "  <tbody>\n",
       "    <tr>\n",
       "      <th>0</th>\n",
       "      <td>female</td>\n",
       "      <td>9881</td>\n",
       "    </tr>\n",
       "    <tr>\n",
       "      <th>1</th>\n",
       "      <td>male</td>\n",
       "      <td>156717</td>\n",
       "    </tr>\n",
       "    <tr>\n",
       "      <th>2</th>\n",
       "      <td>unknown</td>\n",
       "      <td>1185</td>\n",
       "    </tr>\n",
       "  </tbody>\n",
       "</table>\n",
       "</div>"
      ],
      "text/plain": [
       "         0       1\n",
       "0   female    9881\n",
       "1     male  156717\n",
       "2  unknown    1185"
      ]
     },
     "execution_count": 3,
     "metadata": {},
     "output_type": "execute_result"
    }
   ],
   "source": [
    "df = pd.read_csv('Dataset/gender_count.csv', header=None)\n",
    "df"
   ]
  },
  {
   "cell_type": "code",
   "execution_count": 6,
   "metadata": {},
   "outputs": [
    {
     "data": {
      "text/plain": [
       "Text(0.5, 1.0, 'Distribusi gender')"
      ]
     },
     "execution_count": 6,
     "metadata": {},
     "output_type": "execute_result"
    },
    {
     "data": {
      "image/png": "[encoded data removed]",
      "text/plain": [
       "<Figure size 432x288 with 1 Axes>"
      ]
     },
     "metadata": {
      "needs_background": "light"
     },
     "output_type": "display_data"
    }
   ],
   "source": [
    "df = df.sort_values(1, ascending=False)\n",
    "plt.bar(df[0],df[1])\n",
    "plt.title('Distribusi gender')"
   ]
  },
  {
   "cell_type": "code",
   "execution_count": 35,
   "metadata": {},
   "outputs": [],
   "source": [
    "df = pd.read_json('Dataset/endomondo.json', lines=True)"
   ]
  },
  {
   "cell_type": "code",
   "execution_count": 36,
   "metadata": {},
   "outputs": [
    {
     "data": {
      "text/html": [
       "<div>\n",
       "<style scoped>\n",
       "    .dataframe tbody tr th:only-of-type {\n",
       "        vertical-align: middle;\n",
       "    }\n",
       "\n",
       "    .dataframe tbody tr th {\n",
       "        vertical-align: top;\n",
       "    }\n",
       "\n",
       "    .dataframe thead th {\n",
       "        text-align: right;\n",
       "    }\n",
       "</style>\n",
       "<table border=\"1\" class=\"dataframe\">\n",
       "  <thead>\n",
       "    <tr style=\"text-align: right;\">\n",
       "      <th></th>\n",
       "      <th>altitude</th>\n",
       "      <th>distance</th>\n",
       "      <th>gender</th>\n",
       "      <th>heart_rate</th>\n",
       "      <th>id</th>\n",
       "      <th>latitude</th>\n",
       "      <th>longitude</th>\n",
       "      <th>speed</th>\n",
       "      <th>sport</th>\n",
       "      <th>userId</th>\n",
       "    </tr>\n",
       "  </thead>\n",
       "  <tbody>\n",
       "    <tr>\n",
       "      <th>0</th>\n",
       "      <td>-0.002000</td>\n",
       "      <td>2469.6900</td>\n",
       "      <td>male</td>\n",
       "      <td>165.336</td>\n",
       "      <td>205454648</td>\n",
       "      <td>29.094667</td>\n",
       "      <td>-81.353615</td>\n",
       "      <td>0.000000</td>\n",
       "      <td>run</td>\n",
       "      <td>478585</td>\n",
       "    </tr>\n",
       "    <tr>\n",
       "      <th>1</th>\n",
       "      <td>-0.003599</td>\n",
       "      <td>1946.8801</td>\n",
       "      <td>male</td>\n",
       "      <td>136.688</td>\n",
       "      <td>444762628</td>\n",
       "      <td>13.688887</td>\n",
       "      <td>100.756050</td>\n",
       "      <td>29.722687</td>\n",
       "      <td>bike</td>\n",
       "      <td>11555239</td>\n",
       "    </tr>\n",
       "    <tr>\n",
       "      <th>2</th>\n",
       "      <td>-0.004800</td>\n",
       "      <td>966.8748</td>\n",
       "      <td>male</td>\n",
       "      <td>162.262</td>\n",
       "      <td>471800528</td>\n",
       "      <td>55.596527</td>\n",
       "      <td>12.356528</td>\n",
       "      <td>11.776106</td>\n",
       "      <td>run</td>\n",
       "      <td>762872</td>\n",
       "    </tr>\n",
       "    <tr>\n",
       "      <th>3</th>\n",
       "      <td>-0.006400</td>\n",
       "      <td>1053.2084</td>\n",
       "      <td>male</td>\n",
       "      <td>155.538</td>\n",
       "      <td>571582823</td>\n",
       "      <td>57.019640</td>\n",
       "      <td>9.918752</td>\n",
       "      <td>14.061889</td>\n",
       "      <td>run</td>\n",
       "      <td>745030</td>\n",
       "    </tr>\n",
       "    <tr>\n",
       "      <th>4</th>\n",
       "      <td>-0.006800</td>\n",
       "      <td>1052.5713</td>\n",
       "      <td>male</td>\n",
       "      <td>135.894</td>\n",
       "      <td>499773014</td>\n",
       "      <td>56.376488</td>\n",
       "      <td>9.304066</td>\n",
       "      <td>31.494408</td>\n",
       "      <td>bike</td>\n",
       "      <td>65547</td>\n",
       "    </tr>\n",
       "  </tbody>\n",
       "</table>\n",
       "</div>"
      ],
      "text/plain": [
       "   altitude   distance gender  heart_rate         id   latitude   longitude  \\\n",
       "0 -0.002000  2469.6900   male     165.336  205454648  29.094667  -81.353615   \n",
       "1 -0.003599  1946.8801   male     136.688  444762628  13.688887  100.756050   \n",
       "2 -0.004800   966.8748   male     162.262  471800528  55.596527   12.356528   \n",
       "3 -0.006400  1053.2084   male     155.538  571582823  57.019640    9.918752   \n",
       "4 -0.006800  1052.5713   male     135.894  499773014  56.376488    9.304066   \n",
       "\n",
       "       speed sport    userId  \n",
       "0   0.000000   run    478585  \n",
       "1  29.722687  bike  11555239  \n",
       "2  11.776106   run    762872  \n",
       "3  14.061889   run    745030  \n",
       "4  31.494408  bike     65547  "
      ]
     },
     "execution_count": 36,
     "metadata": {},
     "output_type": "execute_result"
    }
   ],
   "source": [
    "df.head()"
   ]
  },
  {
   "cell_type": "code",
   "execution_count": 39,
   "metadata": {},
   "outputs": [
    {
     "name": "stderr",
     "output_type": "stream",
     "text": [
      "c:\\users\\owner\\appdata\\local\\programs\\python\\python36\\lib\\site-packages\\ipykernel_launcher.py:5: SettingWithCopyWarning: \n",
      "A value is trying to be set on a copy of a slice from a DataFrame.\n",
      "Try using .loc[row_indexer,col_indexer] = value instead\n",
      "\n",
      "See the caveats in the documentation: http://pandas.pydata.org/pandas-docs/stable/indexing.html#indexing-view-versus-copy\n",
      "  \"\"\"\n"
     ]
    }
   ],
   "source": [
    "run_df = df.loc[df.sport == 'run']\n",
    "X = df.loc[df.sport == 'run', ['longitude', 'latitude']]\n",
    "model = KMeans(n_clusters=4, random_state=88).fit(X)\n",
    "predictions = model.predict(X)\n",
    "run_df['cluster'] = predictions"
   ]
  },
  {
   "cell_type": "code",
   "execution_count": 40,
   "metadata": {},
   "outputs": [
    {
     "data": {
      "text/html": [
       "<div>\n",
       "<style scoped>\n",
       "    .dataframe tbody tr th:only-of-type {\n",
       "        vertical-align: middle;\n",
       "    }\n",
       "\n",
       "    .dataframe tbody tr th {\n",
       "        vertical-align: top;\n",
       "    }\n",
       "\n",
       "    .dataframe thead th {\n",
       "        text-align: right;\n",
       "    }\n",
       "</style>\n",
       "<table border=\"1\" class=\"dataframe\">\n",
       "  <thead>\n",
       "    <tr style=\"text-align: right;\">\n",
       "      <th></th>\n",
       "      <th>altitude</th>\n",
       "      <th>distance</th>\n",
       "      <th>gender</th>\n",
       "      <th>heart_rate</th>\n",
       "      <th>id</th>\n",
       "      <th>latitude</th>\n",
       "      <th>longitude</th>\n",
       "      <th>speed</th>\n",
       "      <th>sport</th>\n",
       "      <th>userId</th>\n",
       "      <th>cluster</th>\n",
       "    </tr>\n",
       "  </thead>\n",
       "  <tbody>\n",
       "    <tr>\n",
       "      <th>0</th>\n",
       "      <td>-0.0020</td>\n",
       "      <td>2469.6900</td>\n",
       "      <td>male</td>\n",
       "      <td>165.336</td>\n",
       "      <td>205454648</td>\n",
       "      <td>29.094667</td>\n",
       "      <td>-81.353615</td>\n",
       "      <td>0.000000</td>\n",
       "      <td>run</td>\n",
       "      <td>478585</td>\n",
       "      <td>3</td>\n",
       "    </tr>\n",
       "    <tr>\n",
       "      <th>2</th>\n",
       "      <td>-0.0048</td>\n",
       "      <td>966.8748</td>\n",
       "      <td>male</td>\n",
       "      <td>162.262</td>\n",
       "      <td>471800528</td>\n",
       "      <td>55.596527</td>\n",
       "      <td>12.356528</td>\n",
       "      <td>11.776106</td>\n",
       "      <td>run</td>\n",
       "      <td>762872</td>\n",
       "      <td>0</td>\n",
       "    </tr>\n",
       "    <tr>\n",
       "      <th>3</th>\n",
       "      <td>-0.0064</td>\n",
       "      <td>1053.2084</td>\n",
       "      <td>male</td>\n",
       "      <td>155.538</td>\n",
       "      <td>571582823</td>\n",
       "      <td>57.019640</td>\n",
       "      <td>9.918752</td>\n",
       "      <td>14.061889</td>\n",
       "      <td>run</td>\n",
       "      <td>745030</td>\n",
       "      <td>0</td>\n",
       "    </tr>\n",
       "    <tr>\n",
       "      <th>6</th>\n",
       "      <td>-0.0096</td>\n",
       "      <td>1007.3579</td>\n",
       "      <td>male</td>\n",
       "      <td>139.600</td>\n",
       "      <td>235870865</td>\n",
       "      <td>55.414467</td>\n",
       "      <td>10.364039</td>\n",
       "      <td>0.000000</td>\n",
       "      <td>run</td>\n",
       "      <td>16786</td>\n",
       "      <td>0</td>\n",
       "    </tr>\n",
       "    <tr>\n",
       "      <th>7</th>\n",
       "      <td>-0.0100</td>\n",
       "      <td>1053.6771</td>\n",
       "      <td>male</td>\n",
       "      <td>175.010</td>\n",
       "      <td>590075340</td>\n",
       "      <td>57.036550</td>\n",
       "      <td>9.914627</td>\n",
       "      <td>16.752308</td>\n",
       "      <td>run</td>\n",
       "      <td>3297710</td>\n",
       "      <td>0</td>\n",
       "    </tr>\n",
       "  </tbody>\n",
       "</table>\n",
       "</div>"
      ],
      "text/plain": [
       "   altitude   distance gender  heart_rate         id   latitude  longitude  \\\n",
       "0   -0.0020  2469.6900   male     165.336  205454648  29.094667 -81.353615   \n",
       "2   -0.0048   966.8748   male     162.262  471800528  55.596527  12.356528   \n",
       "3   -0.0064  1053.2084   male     155.538  571582823  57.019640   9.918752   \n",
       "6   -0.0096  1007.3579   male     139.600  235870865  55.414467  10.364039   \n",
       "7   -0.0100  1053.6771   male     175.010  590075340  57.036550   9.914627   \n",
       "\n",
       "       speed sport   userId  cluster  \n",
       "0   0.000000   run   478585        3  \n",
       "2  11.776106   run   762872        0  \n",
       "3  14.061889   run   745030        0  \n",
       "6   0.000000   run    16786        0  \n",
       "7  16.752308   run  3297710        0  "
      ]
     },
     "execution_count": 40,
     "metadata": {},
     "output_type": "execute_result"
    }
   ],
   "source": [
    "run_df.head()"
   ]
  },
  {
   "cell_type": "code",
   "execution_count": 13,
   "metadata": {},
   "outputs": [
    {
     "data": {
      "text/plain": [
       "array([[ 10.69665088,  51.92972701],\n",
       "       [112.1115695 ,  14.72351889],\n",
       "       [-89.37194383,  37.50810277],\n",
       "       [ -7.82805834, -25.51722023]])"
      ]
     },
     "execution_count": 13,
     "metadata": {},
     "output_type": "execute_result"
    }
   ],
   "source": [
    "model.cluster_centers_"
   ]
  },
  {
   "cell_type": "code",
   "execution_count": 73,
   "metadata": {},
   "outputs": [
    {
     "data": {
      "image/png": "[encoded data removed]",
      "text/plain": [
       "<Figure size 432x288 with 1 Axes>"
      ]
     },
     "metadata": {
      "needs_background": "light"
     },
     "output_type": "display_data"
    }
   ],
   "source": [
    "plt.scatter(run_df.longitude, run_df.latitude, c=predictions, cmap='rainbow')\n",
    "plt.scatter(model.cluster_centers_[:, 0], model.cluster_centers_[:, 1], marker='X', s=50, c='black')\n",
    "plt.title('Location cluster')\n",
    "for clust_numb, center in enumerate(model.cluster_centers_):\n",
    "    plt.text(center[0], center[1], 'clust' + str(clust_numb))\n",
    "plt.show()"
   ]
  },
  {
   "cell_type": "code",
   "execution_count": 42,
   "metadata": {},
   "outputs": [
    {
     "data": {
      "text/plain": [
       "0    58841\n",
       "3     5100\n",
       "1     4351\n",
       "2     2299\n",
       "Name: cluster, dtype: int64"
      ]
     },
     "execution_count": 42,
     "metadata": {},
     "output_type": "execute_result"
    }
   ],
   "source": [
    "cluster_count = run_df.cluster.value_counts()\n",
    "cluster_count"
   ]
  },
  {
   "cell_type": "code",
   "execution_count": 54,
   "metadata": {},
   "outputs": [
    {
     "ename": "KeyError",
     "evalue": "0",
     "output_type": "error",
     "traceback": [
      "\u001b[1;31m---------------------------------------------------------------------------\u001b[0m",
      "\u001b[1;31mKeyError\u001b[0m                                  Traceback (most recent call last)",
      "\u001b[1;32m<ipython-input-54-331733248fdf>\u001b[0m in \u001b[0;36m<module>\u001b[1;34m\u001b[0m\n\u001b[1;32m----> 1\u001b[1;33m \u001b[0mcluster_count\u001b[0m \u001b[1;33m=\u001b[0m \u001b[0mcluster_count\u001b[0m\u001b[1;33m.\u001b[0m\u001b[0msort_values\u001b[0m\u001b[1;33m(\u001b[0m\u001b[1;36m0\u001b[0m\u001b[1;33m,\u001b[0m \u001b[0mascending\u001b[0m\u001b[1;33m=\u001b[0m\u001b[1;32mFalse\u001b[0m\u001b[1;33m)\u001b[0m\u001b[1;33m.\u001b[0m\u001b[0mreset_index\u001b[0m\u001b[1;33m(\u001b[0m\u001b[1;33m)\u001b[0m\u001b[1;33m\u001b[0m\u001b[1;33m\u001b[0m\u001b[0m\n\u001b[0m\u001b[0;32m      2\u001b[0m \u001b[0mcluster_count\u001b[0m\u001b[1;33m.\u001b[0m\u001b[0mindex\u001b[0m\u001b[1;33m\u001b[0m\u001b[1;33m\u001b[0m\u001b[0m\n",
      "\u001b[1;32mc:\\users\\owner\\appdata\\local\\programs\\python\\python36\\lib\\site-packages\\pandas\\core\\frame.py\u001b[0m in \u001b[0;36msort_values\u001b[1;34m(self, by, axis, ascending, inplace, kind, na_position)\u001b[0m\n\u001b[0;32m   4419\u001b[0m             \u001b[0mby\u001b[0m \u001b[1;33m=\u001b[0m \u001b[0mby\u001b[0m\u001b[1;33m[\u001b[0m\u001b[1;36m0\u001b[0m\u001b[1;33m]\u001b[0m\u001b[1;33m\u001b[0m\u001b[1;33m\u001b[0m\u001b[0m\n\u001b[0;32m   4420\u001b[0m             k = self._get_label_or_level_values(by, axis=axis,\n\u001b[1;32m-> 4421\u001b[1;33m                                                 stacklevel=stacklevel)\n\u001b[0m\u001b[0;32m   4422\u001b[0m \u001b[1;33m\u001b[0m\u001b[0m\n\u001b[0;32m   4423\u001b[0m             \u001b[1;32mif\u001b[0m \u001b[0misinstance\u001b[0m\u001b[1;33m(\u001b[0m\u001b[0mascending\u001b[0m\u001b[1;33m,\u001b[0m \u001b[1;33m(\u001b[0m\u001b[0mtuple\u001b[0m\u001b[1;33m,\u001b[0m \u001b[0mlist\u001b[0m\u001b[1;33m)\u001b[0m\u001b[1;33m)\u001b[0m\u001b[1;33m:\u001b[0m\u001b[1;33m\u001b[0m\u001b[1;33m\u001b[0m\u001b[0m\n",
      "\u001b[1;32mc:\\users\\owner\\appdata\\local\\programs\\python\\python36\\lib\\site-packages\\pandas\\core\\generic.py\u001b[0m in \u001b[0;36m_get_label_or_level_values\u001b[1;34m(self, key, axis, stacklevel)\u001b[0m\n\u001b[0;32m   1380\u001b[0m             \u001b[0mvalues\u001b[0m \u001b[1;33m=\u001b[0m \u001b[0mself\u001b[0m\u001b[1;33m.\u001b[0m\u001b[0maxes\u001b[0m\u001b[1;33m[\u001b[0m\u001b[0maxis\u001b[0m\u001b[1;33m]\u001b[0m\u001b[1;33m.\u001b[0m\u001b[0mget_level_values\u001b[0m\u001b[1;33m(\u001b[0m\u001b[0mkey\u001b[0m\u001b[1;33m)\u001b[0m\u001b[1;33m.\u001b[0m\u001b[0m_values\u001b[0m\u001b[1;33m\u001b[0m\u001b[1;33m\u001b[0m\u001b[0m\n\u001b[0;32m   1381\u001b[0m         \u001b[1;32melse\u001b[0m\u001b[1;33m:\u001b[0m\u001b[1;33m\u001b[0m\u001b[1;33m\u001b[0m\u001b[0m\n\u001b[1;32m-> 1382\u001b[1;33m             \u001b[1;32mraise\u001b[0m \u001b[0mKeyError\u001b[0m\u001b[1;33m(\u001b[0m\u001b[0mkey\u001b[0m\u001b[1;33m)\u001b[0m\u001b[1;33m\u001b[0m\u001b[1;33m\u001b[0m\u001b[0m\n\u001b[0m\u001b[0;32m   1383\u001b[0m \u001b[1;33m\u001b[0m\u001b[0m\n\u001b[0;32m   1384\u001b[0m         \u001b[1;31m# Check for duplicates\u001b[0m\u001b[1;33m\u001b[0m\u001b[1;33m\u001b[0m\u001b[1;33m\u001b[0m\u001b[0m\n",
      "\u001b[1;31mKeyError\u001b[0m: 0"
     ]
    }
   ],
   "source": [
    "cluster_count = cluster_count.sort_values(0, ascending=False).reset_index()\n",
    "cluster_count"
   ]
  },
  {
   "cell_type": "code",
   "execution_count": 58,
   "metadata": {},
   "outputs": [
    {
     "data": {
      "text/html": [
       "<div>\n",
       "<style scoped>\n",
       "    .dataframe tbody tr th:only-of-type {\n",
       "        vertical-align: middle;\n",
       "    }\n",
       "\n",
       "    .dataframe tbody tr th {\n",
       "        vertical-align: top;\n",
       "    }\n",
       "\n",
       "    .dataframe thead th {\n",
       "        text-align: right;\n",
       "    }\n",
       "</style>\n",
       "<table border=\"1\" class=\"dataframe\">\n",
       "  <thead>\n",
       "    <tr style=\"text-align: right;\">\n",
       "      <th></th>\n",
       "      <th>index</th>\n",
       "      <th>cluster</th>\n",
       "    </tr>\n",
       "  </thead>\n",
       "  <tbody>\n",
       "    <tr>\n",
       "      <th>0</th>\n",
       "      <td>0</td>\n",
       "      <td>58841</td>\n",
       "    </tr>\n",
       "    <tr>\n",
       "      <th>1</th>\n",
       "      <td>3</td>\n",
       "      <td>5100</td>\n",
       "    </tr>\n",
       "    <tr>\n",
       "      <th>2</th>\n",
       "      <td>1</td>\n",
       "      <td>4351</td>\n",
       "    </tr>\n",
       "    <tr>\n",
       "      <th>3</th>\n",
       "      <td>2</td>\n",
       "      <td>2299</td>\n",
       "    </tr>\n",
       "  </tbody>\n",
       "</table>\n",
       "</div>"
      ],
      "text/plain": [
       "   index  cluster\n",
       "0      0    58841\n",
       "1      3     5100\n",
       "2      1     4351\n",
       "3      2     2299"
      ]
     },
     "execution_count": 58,
     "metadata": {},
     "output_type": "execute_result"
    }
   ],
   "source": [
    "cluster_count"
   ]
  },
  {
   "cell_type": "code",
   "execution_count": 56,
   "metadata": {},
   "outputs": [
    {
     "data": {
      "text/plain": [
       "0    0\n",
       "1    3\n",
       "2    1\n",
       "3    2\n",
       "Name: index, dtype: int64"
      ]
     },
     "execution_count": 56,
     "metadata": {},
     "output_type": "execute_result"
    }
   ],
   "source": [
    "cluster_count['index']"
   ]
  },
  {
   "cell_type": "code",
   "execution_count": 68,
   "metadata": {},
   "outputs": [
    {
     "data": {
      "image/png": "[encoded data removed]",
      "text/plain": [
       "<Figure size 432x288 with 1 Axes>"
      ]
     },
     "metadata": {
      "needs_background": "light"
     },
     "output_type": "display_data"
    }
   ],
   "source": [
    "plt.bar(['cluster0', 'cluster3', 'cluster1', 'cluster2'], cluster_count.cluster)\n",
    "# plt.xticks(['cluster0', 'cluster', 'cluster', 'cluster'])\n",
    "plt.title('Route point dalam cluster')\n",
    "plt.show()"
   ]
  },
  {
   "cell_type": "code",
   "execution_count": 33,
   "metadata": {},
   "outputs": [
    {
     "data": {
      "text/plain": [
       "array(['run', 'bike', 'rowing', 'treadmill running', 'orienteering',\n",
       "       'mountain bike', 'bike (transport)', 'indoor cycling',\n",
       "       'cross-country skiing', 'kayaking', 'circuit training', 'walk',\n",
       "       'core stability training', 'skate', 'weight training', 'hiking',\n",
       "       'roller skiing', 'swimming', 'fitness walking', 'pilates',\n",
       "       'sailing', 'gymnastics', 'aerobics', 'yoga', 'tennis',\n",
       "       'downhill skiing', 'snowboarding', 'badminton', 'soccer', 'rugby',\n",
       "       'snowshoeing', 'golf', 'climbing', 'elliptical', 'windsurfing',\n",
       "       'martial arts', 'stair climing', 'horseback riding', 'squash',\n",
       "       'basketball', 'table tennis', 'treadmill walking', 'kite surfing'],\n",
       "      dtype=object)"
      ]
     },
     "execution_count": 33,
     "metadata": {},
     "output_type": "execute_result"
    }
   ],
   "source": [
    "df.sport.unique()"
   ]
  },
  {
   "cell_type": "code",
   "execution_count": null,
   "metadata": {},
   "outputs": [],
   "source": []
  }
 ],
 "metadata": {
  "kernelspec": {
   "display_name": "Python 3",
   "language": "python",
   "name": "python3"
  },
  "language_info": {
   "codemirror_mode": {
    "name": "ipython",
    "version": 3
   },
   "file_extension": ".py",
   "mimetype": "text/x-python",
   "name": "python",
   "nbconvert_exporter": "python",
   "pygments_lexer": "ipython3",
   "version": "3.6.7"
  }
 },
 "nbformat": 4,
 "nbformat_minor": 2
}
